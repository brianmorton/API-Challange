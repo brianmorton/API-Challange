{
 "cells": [
  {
   "cell_type": "markdown",
   "metadata": {},
   "source": [
    "# WeatherPy\n",
    "----\n",
    "\n",
    "#### Note\n",
    "* Instructions have been included for each segment. You do not have to follow them exactly, but they are included to help you think through the steps."
   ]
  },
  {
   "cell_type": "code",
   "execution_count": 29,
   "metadata": {
    "scrolled": true
   },
   "outputs": [],
   "source": [
    "# Dependencies and Setup\n",
    "import matplotlib.pyplot as plt\n",
    "import pandas as pd\n",
    "import numpy as np\n",
    "import requests\n",
    "import time\n",
    "from scipy.stats import linregress\n",
    "import json\n",
    "\n",
    "# Import API key\n",
    "from api_keys import weather_api_key\n",
    "\n",
    "# Incorporated citipy to determine city based on latitude and longitude\n",
    "from citipy import citipy\n",
    "\n",
    "# Output File (CSV)\n",
    "output_data_file = \"output_data/cities.csv\"\n",
    "\n",
    "# Range of latitudes and longitudes\n",
    "lat_range = (-90, 90)\n",
    "lng_range = (-180, 180)\n",
    "\n",
    "url = \"http://api.openweathermap.org/data/2.5/weather?q=\"\n",
    "appid = \"&appid=\"\n",
    "city_df = []"
   ]
  },
  {
   "cell_type": "markdown",
   "metadata": {},
   "source": [
    "## Generate Cities List"
   ]
  },
  {
   "cell_type": "code",
   "execution_count": 30,
   "metadata": {},
   "outputs": [
    {
     "data": {
      "text/plain": [
       "642"
      ]
     },
     "execution_count": 30,
     "metadata": {},
     "output_type": "execute_result"
    }
   ],
   "source": [
    "# List for holding lat_lngs and cities\n",
    "lat_lngs = []\n",
    "cities = []\n",
    "\n",
    "# Create a set of random lat and lng combinations\n",
    "lats = np.random.uniform(lat_range[0], lat_range[1], size=1500)\n",
    "lngs = np.random.uniform(lng_range[0], lng_range[1], size=1500)\n",
    "lat_lngs = zip(lats, lngs)\n",
    "\n",
    "# Identify nearest city for each lat, lng combination\n",
    "for lat_lng in lat_lngs:\n",
    "    city = citipy.nearest_city(lat_lng[0], lat_lng[1]).city_name\n",
    "    \n",
    "    # If the city is unique, then add it to a our cities list\n",
    "    if city not in cities:\n",
    "        cities.append(city)\n",
    "\n",
    "# Print the city count to confirm sufficient count\n",
    "len(cities)"
   ]
  },
  {
   "cell_type": "markdown",
   "metadata": {},
   "source": [
    "### Perform API Calls\n",
    "* Perform a weather check on each city using a series of successive API calls.\n",
    "* Include a print log of each city as it'sbeing processed (with the city number and city name).\n"
   ]
  },
  {
   "cell_type": "code",
   "execution_count": 31,
   "metadata": {},
   "outputs": [
    {
     "name": "stdout",
     "output_type": "stream",
     "text": [
      "city name is Kiryat Gat and the position is: 1\n",
      "city name is Vaini and the position is: 2\n",
      "city name is Osorno and the position is: 3\n",
      "city name is Albany and the position is: 4\n",
      "city name is Nikolskoye and the position is: 5\n",
      "city name is Mahébourg and the position is: 6\n",
      "city name is Hermanus and the position is: 7\n",
      "city name is Bambous Virieux and the position is: 8\n",
      "city name is Port Alfred and the position is: 9\n",
      "city name is Khatanga and the position is: 10\n",
      "city name is Carnarvon and the position is: 11\n",
      "city name is Esperance and the position is: 12\n",
      "city name is New Norfolk and the position is: 13\n",
      "city name is Hobart and the position is: 14\n",
      "city name is Mumford and the position is: 15\n",
      "city name is Bredasdorp and the position is: 16\n",
      "city name is Shimoda and the position is: 17\n",
      "city name is Campina Verde and the position is: 18\n",
      "city name is Saint Paul Harbor and the position is: 19\n",
      "city name is Oistins and the position is: 20\n",
      "city name is Marzuq and the position is: 21\n",
      "city name is Provideniya and the position is: 22\n",
      "city name is Ancud and the position is: 23\n",
      "city name is Yar-Sale and the position is: 24\n",
      "city name is Ust-Nera and the position is: 25\n",
      "city name is Shīeli and the position is: 26\n",
      "city name is Camacha and the position is: 27\n",
      "city name is Lebu and the position is: 28\n",
      "city name is Avarua and the position is: 29\n",
      "city name is Puerto Ayora and the position is: 30\n",
      "city name is Antalaha and the position is: 31\n",
      "city name is Bereket and the position is: 32\n",
      "city name is Alūksne and the position is: 33\n"
     ]
    }
   ],
   "source": [
    "# loop thru (cities) and print each name/id\n",
    "counter = 1\n",
    "\n",
    "country= []\n",
    "cityn = []\n",
    "lats = []\n",
    "lngs = []\n",
    "temps = []\n",
    "max_temps = []\n",
    "humidities = []\n",
    "clouds = []\n",
    "winds = []\n",
    "\n",
    "for cityname in cities:\n",
    "    if counter < 500:\n",
    "        try:\n",
    "            query_url = url + cityname + appid + weather_api_key\n",
    "            city_request = requests.get(query_url).json()\n",
    "            city_name = city_request['name']\n",
    "            city_lat = city_request['coord']['lat']\n",
    "            city_long = city_request['coord']['lon']\n",
    "            city_temp = city_request['main']['temp']\n",
    "            city_max = city_request['main']['temp_max']\n",
    "            city_hum = city_request['main']['humidity']\n",
    "            city_cloud = city_request['clouds']['all']\n",
    "            city_wind = city_request['wind']['speed']\n",
    "            # get country info\n",
    "            country_info = city_request['sys']['country']\n",
    "            # append city name\n",
    "            cityn.append(city_name)\n",
    "            # append country info\n",
    "            country.append(country_info)\n",
    "            lats.append(city_lat)\n",
    "            lngs.append(city_long)\n",
    "            temps.append(city_temp)\n",
    "            max_temps.append(city_max)\n",
    "            humidities.append(city_hum)\n",
    "            clouds.append(city_cloud)\n",
    "            winds.append(city_wind)\n",
    "            print(\"city name is \" + str(city_name) + \" and the position is: \" + str(counter))\n",
    "            counter = counter + 1\n",
    "        except:\n",
    "            break"
   ]
  },
  {
   "cell_type": "code",
   "execution_count": 32,
   "metadata": {},
   "outputs": [
    {
     "data": {
      "text/plain": [
       "[31.61,\n",
       " -21.2,\n",
       " -40.5667,\n",
       " 42.6001,\n",
       " 59.7035,\n",
       " -20.4081,\n",
       " -34.4187,\n",
       " -20.3428,\n",
       " -33.5906,\n",
       " 71.9667,\n",
       " -24.8667,\n",
       " -33.8667,\n",
       " -42.7826,\n",
       " -42.8794,\n",
       " 5.2618,\n",
       " -34.5322,\n",
       " 34.6667,\n",
       " -19.5356,\n",
       " 57.79,\n",
       " 13.0667,\n",
       " 14.4,\n",
       " 64.3833,\n",
       " -41.8697,\n",
       " 66.8333,\n",
       " 64.5667,\n",
       " 44.1667,\n",
       " 33.0833,\n",
       " -37.6167,\n",
       " -21.2078,\n",
       " -0.7393,\n",
       " -14.9003,\n",
       " 39.2446,\n",
       " 57.4167]"
      ]
     },
     "execution_count": 32,
     "metadata": {},
     "output_type": "execute_result"
    }
   ],
   "source": [
    "lats"
   ]
  },
  {
   "cell_type": "markdown",
   "metadata": {},
   "source": [
    "### Convert Raw Data to DataFrame\n",
    "* Export the city data into a .csv.\n",
    "* Display the DataFrame"
   ]
  },
  {
   "cell_type": "code",
   "execution_count": 33,
   "metadata": {
    "scrolled": true
   },
   "outputs": [
    {
     "data": {
      "text/plain": [
       "{'country': ['IL',\n",
       "  'TO',\n",
       "  'CL',\n",
       "  'US',\n",
       "  'RU',\n",
       "  'MU',\n",
       "  'ZA',\n",
       "  'MU',\n",
       "  'ZA',\n",
       "  'RU',\n",
       "  'AU',\n",
       "  'AU',\n",
       "  'AU',\n",
       "  'AU',\n",
       "  'GH',\n",
       "  'ZA',\n",
       "  'JP',\n",
       "  'BR',\n",
       "  'US',\n",
       "  'BB',\n",
       "  'YE',\n",
       "  'RU',\n",
       "  'CL',\n",
       "  'RU',\n",
       "  'RU',\n",
       "  'KZ',\n",
       "  'PT',\n",
       "  'CL',\n",
       "  'CK',\n",
       "  'EC',\n",
       "  'MG',\n",
       "  'TM',\n",
       "  'LV'],\n",
       " 'cityn': ['Kiryat Gat',\n",
       "  'Vaini',\n",
       "  'Osorno',\n",
       "  'Albany',\n",
       "  'Nikolskoye',\n",
       "  'Mahébourg',\n",
       "  'Hermanus',\n",
       "  'Bambous Virieux',\n",
       "  'Port Alfred',\n",
       "  'Khatanga',\n",
       "  'Carnarvon',\n",
       "  'Esperance',\n",
       "  'New Norfolk',\n",
       "  'Hobart',\n",
       "  'Mumford',\n",
       "  'Bredasdorp',\n",
       "  'Shimoda',\n",
       "  'Campina Verde',\n",
       "  'Saint Paul Harbor',\n",
       "  'Oistins',\n",
       "  'Marzuq',\n",
       "  'Provideniya',\n",
       "  'Ancud',\n",
       "  'Yar-Sale',\n",
       "  'Ust-Nera',\n",
       "  'Shīeli',\n",
       "  'Camacha',\n",
       "  'Lebu',\n",
       "  'Avarua',\n",
       "  'Puerto Ayora',\n",
       "  'Antalaha',\n",
       "  'Bereket',\n",
       "  'Alūksne'],\n",
       " 'lats': [31.61,\n",
       "  -21.2,\n",
       "  -40.5667,\n",
       "  42.6001,\n",
       "  59.7035,\n",
       "  -20.4081,\n",
       "  -34.4187,\n",
       "  -20.3428,\n",
       "  -33.5906,\n",
       "  71.9667,\n",
       "  -24.8667,\n",
       "  -33.8667,\n",
       "  -42.7826,\n",
       "  -42.8794,\n",
       "  5.2618,\n",
       "  -34.5322,\n",
       "  34.6667,\n",
       "  -19.5356,\n",
       "  57.79,\n",
       "  13.0667,\n",
       "  14.4,\n",
       "  64.3833,\n",
       "  -41.8697,\n",
       "  66.8333,\n",
       "  64.5667,\n",
       "  44.1667,\n",
       "  33.0833,\n",
       "  -37.6167,\n",
       "  -21.2078,\n",
       "  -0.7393,\n",
       "  -14.9003,\n",
       "  39.2446,\n",
       "  57.4167],\n",
       " 'lngs': [34.7642,\n",
       "  -175.2,\n",
       "  -73.15,\n",
       "  -73.9662,\n",
       "  30.7861,\n",
       "  57.7,\n",
       "  19.2345,\n",
       "  57.7575,\n",
       "  26.891,\n",
       "  102.5,\n",
       "  113.6333,\n",
       "  121.9,\n",
       "  147.0587,\n",
       "  147.3294,\n",
       "  -0.759,\n",
       "  20.0403,\n",
       "  138.95,\n",
       "  -49.4864,\n",
       "  -152.4072,\n",
       "  -59.5333,\n",
       "  46.4667,\n",
       "  -173.3,\n",
       "  -73.8203,\n",
       "  70.8333,\n",
       "  143.2,\n",
       "  66.75,\n",
       "  -16.3333,\n",
       "  -73.65,\n",
       "  -159.775,\n",
       "  -90.3518,\n",
       "  50.2788,\n",
       "  55.5154,\n",
       "  27.05],\n",
       " 'temps': [286.85,\n",
       "  299.15,\n",
       "  293.15,\n",
       "  266.96,\n",
       "  262.2,\n",
       "  299.15,\n",
       "  295.37,\n",
       "  299.2,\n",
       "  298.15,\n",
       "  238.21,\n",
       "  298.15,\n",
       "  288.15,\n",
       "  282.65,\n",
       "  283.78,\n",
       "  301.15,\n",
       "  295.15,\n",
       "  281.48,\n",
       "  300.01,\n",
       "  275.02,\n",
       "  302.15,\n",
       "  288.62,\n",
       "  259.8,\n",
       "  288.58,\n",
       "  239.82,\n",
       "  250.71,\n",
       "  275.46,\n",
       "  289.15,\n",
       "  288.89,\n",
       "  302.15,\n",
       "  302.46,\n",
       "  297.97,\n",
       "  286.61,\n",
       "  266.59],\n",
       " 'max_temps': [288.15,\n",
       "  299.15,\n",
       "  293.15,\n",
       "  268.15,\n",
       "  264.15,\n",
       "  299.15,\n",
       "  295.37,\n",
       "  299.26,\n",
       "  298.15,\n",
       "  238.21,\n",
       "  298.15,\n",
       "  288.15,\n",
       "  283.71,\n",
       "  284.26,\n",
       "  301.15,\n",
       "  295.15,\n",
       "  281.48,\n",
       "  300.01,\n",
       "  275.02,\n",
       "  302.15,\n",
       "  288.62,\n",
       "  259.8,\n",
       "  291.15,\n",
       "  239.82,\n",
       "  250.71,\n",
       "  275.46,\n",
       "  289.15,\n",
       "  288.89,\n",
       "  302.15,\n",
       "  303.15,\n",
       "  297.97,\n",
       "  286.61,\n",
       "  266.59],\n",
       " 'humidities': [84,\n",
       "  94,\n",
       "  32,\n",
       "  28,\n",
       "  86,\n",
       "  83,\n",
       "  83,\n",
       "  83,\n",
       "  91,\n",
       "  84,\n",
       "  100,\n",
       "  88,\n",
       "  82,\n",
       "  87,\n",
       "  82,\n",
       "  73,\n",
       "  79,\n",
       "  68,\n",
       "  85,\n",
       "  58,\n",
       "  57,\n",
       "  91,\n",
       "  48,\n",
       "  86,\n",
       "  83,\n",
       "  84,\n",
       "  72,\n",
       "  72,\n",
       "  74,\n",
       "  66,\n",
       "  88,\n",
       "  51,\n",
       "  97],\n",
       " 'clouds': [0,\n",
       "  20,\n",
       "  75,\n",
       "  44,\n",
       "  75,\n",
       "  40,\n",
       "  0,\n",
       "  40,\n",
       "  100,\n",
       "  16,\n",
       "  75,\n",
       "  25,\n",
       "  1,\n",
       "  20,\n",
       "  7,\n",
       "  29,\n",
       "  93,\n",
       "  100,\n",
       "  99,\n",
       "  40,\n",
       "  0,\n",
       "  100,\n",
       "  0,\n",
       "  72,\n",
       "  100,\n",
       "  0,\n",
       "  20,\n",
       "  5,\n",
       "  20,\n",
       "  40,\n",
       "  100,\n",
       "  96,\n",
       "  100],\n",
       " 'winds': [0.45,\n",
       "  2.57,\n",
       "  4.63,\n",
       "  0.45,\n",
       "  2,\n",
       "  3.6,\n",
       "  0.45,\n",
       "  3.6,\n",
       "  3.54,\n",
       "  3.99,\n",
       "  5.66,\n",
       "  2.57,\n",
       "  1.14,\n",
       "  2.06,\n",
       "  6.03,\n",
       "  3.6,\n",
       "  2.33,\n",
       "  1.46,\n",
       "  11.07,\n",
       "  9.26,\n",
       "  1.59,\n",
       "  8.69,\n",
       "  2.57,\n",
       "  0.68,\n",
       "  1.8,\n",
       "  2.96,\n",
       "  2.42,\n",
       "  7.65,\n",
       "  2.06,\n",
       "  6.69,\n",
       "  2.48,\n",
       "  3.16,\n",
       "  4.11]}"
      ]
     },
     "execution_count": 33,
     "metadata": {},
     "output_type": "execute_result"
    }
   ],
   "source": [
    "# api call template: api.openweathermap.org/data/2.5/weather?q={city name}&appid={API key}\n",
    "#sample call for city yellowknife\n",
    "\n",
    "#.append not adding\n",
    "#no .append results in single float point\n",
    "\n",
    "city_df = []\n",
    "\n",
    "        \n",
    "\n",
    "city_df = {\n",
    "    'country' : country,\n",
    "           'cityn' : cityn,\n",
    "    'lats' : lats,\n",
    "    'lngs' : lngs,\n",
    "    \"temps\" : temps,\n",
    "    'max_temps' : max_temps,\n",
    "    'humidities' : humidities,\n",
    "    'clouds' : clouds,\n",
    "    'winds' : winds\n",
    "               \n",
    "} \n",
    "city_df\n",
    "\n",
    "\n",
    "\n"
   ]
  },
  {
   "cell_type": "markdown",
   "metadata": {},
   "source": [
    "## Inspect the data and remove the cities where the humidity > 100%.\n",
    "----\n",
    "Skip this step if there are no cities that have humidity > 100%. "
   ]
  },
  {
   "cell_type": "code",
   "execution_count": 35,
   "metadata": {},
   "outputs": [
    {
     "ename": "AttributeError",
     "evalue": "'dict' object has no attribute 'head'",
     "output_type": "error",
     "traceback": [
      "\u001b[1;31m---------------------------------------------------------------------------\u001b[0m",
      "\u001b[1;31mAttributeError\u001b[0m                            Traceback (most recent call last)",
      "\u001b[1;32m<ipython-input-35-016ee9e2de93>\u001b[0m in \u001b[0;36m<module>\u001b[1;34m\u001b[0m\n\u001b[1;32m----> 1\u001b[1;33m \u001b[0mcity_df\u001b[0m\u001b[1;33m.\u001b[0m\u001b[0mhead\u001b[0m\u001b[1;33m(\u001b[0m\u001b[1;33m)\u001b[0m\u001b[1;33m\u001b[0m\u001b[1;33m\u001b[0m\u001b[0m\n\u001b[0m",
      "\u001b[1;31mAttributeError\u001b[0m: 'dict' object has no attribute 'head'"
     ]
    }
   ],
   "source": []
  },
  {
   "cell_type": "code",
   "execution_count": null,
   "metadata": {},
   "outputs": [],
   "source": []
  },
  {
   "cell_type": "code",
   "execution_count": null,
   "metadata": {},
   "outputs": [],
   "source": [
    "#  Get the indices of cities that have humidity over 100%.\n"
   ]
  },
  {
   "cell_type": "code",
   "execution_count": null,
   "metadata": {},
   "outputs": [],
   "source": [
    "# Make a new DataFrame equal to the city data to drop all humidity outliers by index.\n",
    "# Passing \"inplace=False\" will make a copy of the city_data DataFrame, which we call \"clean_city_data\".\n"
   ]
  },
  {
   "cell_type": "code",
   "execution_count": 36,
   "metadata": {},
   "outputs": [
    {
     "ename": "AttributeError",
     "evalue": "'dict' object has no attribute 'to_csv'",
     "output_type": "error",
     "traceback": [
      "\u001b[1;31m---------------------------------------------------------------------------\u001b[0m",
      "\u001b[1;31mAttributeError\u001b[0m                            Traceback (most recent call last)",
      "\u001b[1;32m<ipython-input-36-702f40fad1e4>\u001b[0m in \u001b[0;36m<module>\u001b[1;34m\u001b[0m\n\u001b[0;32m      1\u001b[0m \u001b[1;31m#export to csv\u001b[0m\u001b[1;33m\u001b[0m\u001b[1;33m\u001b[0m\u001b[1;33m\u001b[0m\u001b[0m\n\u001b[1;32m----> 2\u001b[1;33m \u001b[0mcity_df\u001b[0m\u001b[1;33m.\u001b[0m\u001b[0mto_csv\u001b[0m\u001b[1;33m(\u001b[0m\u001b[0moutput_data_file\u001b[0m\u001b[1;33m)\u001b[0m\u001b[1;33m\u001b[0m\u001b[1;33m\u001b[0m\u001b[0m\n\u001b[0m",
      "\u001b[1;31mAttributeError\u001b[0m: 'dict' object has no attribute 'to_csv'"
     ]
    }
   ],
   "source": [
    "\n",
    "#export to csv \n",
    "city_df.to_csv(output_data_file)\n"
   ]
  },
  {
   "cell_type": "markdown",
   "metadata": {},
   "source": [
    "## Plotting the Data\n",
    "* Use proper labeling of the plots using plot titles (including date of analysis) and axes labels.\n",
    "* Save the plotted figures as .pngs."
   ]
  },
  {
   "cell_type": "markdown",
   "metadata": {},
   "source": [
    "## Latitude vs. Temperature Plot"
   ]
  },
  {
   "cell_type": "code",
   "execution_count": 37,
   "metadata": {
    "scrolled": true
   },
   "outputs": [
    {
     "ename": "SyntaxError",
     "evalue": "invalid syntax (<ipython-input-37-b3b74c701d08>, line 6)",
     "output_type": "error",
     "traceback": [
      "\u001b[1;36m  File \u001b[1;32m\"<ipython-input-37-b3b74c701d08>\"\u001b[1;36m, line \u001b[1;32m6\u001b[0m\n\u001b[1;33m    AxesSubplot:xlabel='Latitude', ylabel='Temperature'\u001b[0m\n\u001b[1;37m                                 ^\u001b[0m\n\u001b[1;31mSyntaxError\u001b[0m\u001b[1;31m:\u001b[0m invalid syntax\n"
     ]
    }
   ],
   "source": [
    "city_df[\"latn\"] = np.where(city_df.OUTCOME > 0, city_df.OUTCOME, 0)\n",
    "city_df[\"lats\"] = np.where(city_df.OUTCOME < 0, - city_df.OUTCOME, 0) \n",
    "\n",
    "\n",
    "city_df.plot.scatter(x='lat', y='temp' )\n",
    "AxesSubplot:xlabel='Latitude', ylabel='Temperature'\n"
   ]
  },
  {
   "cell_type": "markdown",
   "metadata": {},
   "source": [
    "## Latitude vs. Humidity Plot"
   ]
  },
  {
   "cell_type": "code",
   "execution_count": 38,
   "metadata": {},
   "outputs": [
    {
     "ename": "SyntaxError",
     "evalue": "invalid syntax (<ipython-input-38-04b5109522d0>, line 2)",
     "output_type": "error",
     "traceback": [
      "\u001b[1;36m  File \u001b[1;32m\"<ipython-input-38-04b5109522d0>\"\u001b[1;36m, line \u001b[1;32m2\u001b[0m\n\u001b[1;33m    AxesSubplot:xlabel='Latitude', ylabel='Humidity'\u001b[0m\n\u001b[1;37m                                 ^\u001b[0m\n\u001b[1;31mSyntaxError\u001b[0m\u001b[1;31m:\u001b[0m invalid syntax\n"
     ]
    }
   ],
   "source": [
    "city_df.plot.scatter(x='lat', y='humidity' )\n",
    "AxesSubplot:xlabel='Latitude', ylabel='Humidity'\n",
    "    "
   ]
  },
  {
   "cell_type": "markdown",
   "metadata": {},
   "source": [
    "## Latitude vs. Cloudiness Plot"
   ]
  },
  {
   "cell_type": "code",
   "execution_count": null,
   "metadata": {},
   "outputs": [],
   "source": [
    "city_df.plot.scatter(x='lat', y='all' )\n",
    "AxesSubplot:xlabel='Latitude', ylabel='Cloudiness'"
   ]
  },
  {
   "cell_type": "markdown",
   "metadata": {},
   "source": [
    "## Latitude vs. Wind Speed Plot"
   ]
  },
  {
   "cell_type": "code",
   "execution_count": null,
   "metadata": {},
   "outputs": [],
   "source": [
    "city_df.plot.scatter(x='lat', y='speed' )\n",
    "AxesSubplot:xlabel='Latitude', ylabel='Wind Speed'"
   ]
  },
  {
   "cell_type": "markdown",
   "metadata": {},
   "source": [
    "## Linear Regression"
   ]
  },
  {
   "cell_type": "code",
   "execution_count": null,
   "metadata": {},
   "outputs": [],
   "source": []
  },
  {
   "cell_type": "markdown",
   "metadata": {},
   "source": [
    "####  Northern Hemisphere - Max Temp vs. Latitude Linear Regression"
   ]
  },
  {
   "cell_type": "code",
   "execution_count": null,
   "metadata": {},
   "outputs": [],
   "source": [
    "x_value = city_df['temp_max']\n",
    "y_value = city_df['latn'] \n",
    "                       \n",
    "(slope, intercept, rvalue, pvalue, std)= linregress(x_value, y_value)\n",
    "regress_value =  x_value * slope + intercept   \n",
    "line_eq = \"y= \" + str(slope) + \"x \" + str(intercept)\n",
    "plt.scatter(x_value, y_value)\n",
    "plt.xlabel(\"Max Temp\")\n",
    "plt.ylabel(\"Latitude\")\n",
    "plt.plot(x_value, regress_value)\n",
    "print(\"the correlation coefficient is \" + str(rvalue))\n",
    "print(\"the r squared value is \" + str(rvalue**2))\n",
    "plt.show()"
   ]
  },
  {
   "cell_type": "markdown",
   "metadata": {},
   "source": [
    "####  Southern Hemisphere - Max Temp vs. Latitude Linear Regression"
   ]
  },
  {
   "cell_type": "code",
   "execution_count": null,
   "metadata": {},
   "outputs": [],
   "source": [
    "x_value = city_df['temp_max']\n",
    "y_value = city_df['lats'] \n",
    "                       \n",
    "(slope, intercept, rvalue, pvalue, std)= linregress(x_value, y_value)\n",
    "regress_value =  x_value * slope + intercept   \n",
    "line_eq = \"y= \" + str(slope) + \"x \" + str(intercept)\n",
    "plt.scatter(x_value, y_value)\n",
    "plt.xlabel(\"Max Temp\")\n",
    "plt.ylabel(\"Latitude\")\n",
    "plt.plot(x_value, regress_value)\n",
    "print(\"the correlation coefficient is \" + str(rvalue))\n",
    "print(\"the r squared value is \" + str(rvalue**2))\n",
    "plt.show()"
   ]
  },
  {
   "cell_type": "markdown",
   "metadata": {},
   "source": [
    "####  Northern Hemisphere - Humidity (%) vs. Latitude Linear Regression"
   ]
  },
  {
   "cell_type": "code",
   "execution_count": null,
   "metadata": {},
   "outputs": [],
   "source": [
    "x_value = city_df['humidity']\n",
    "y_value = city_df['latn'] \n",
    "                       \n",
    "(slope, intercept, rvalue, pvalue, std)= linregress(x_value, y_value)\n",
    "regress_value =  x_value * slope + intercept   \n",
    "line_eq = \"y= \" + str(slope) + \"x \" + str(intercept)\n",
    "plt.scatter(x_value, y_value)\n",
    "plt.xlabel(\"Humidity\")\n",
    "plt.ylabel(\"Latitude\")\n",
    "plt.plot(x_value, regress_value)\n",
    "print(\"the correlation coefficient is \" + str(rvalue))\n",
    "print(\"the r squared value is \" + str(rvalue**2))\n",
    "plt.show()"
   ]
  },
  {
   "cell_type": "markdown",
   "metadata": {},
   "source": [
    "####  Southern Hemisphere - Humidity (%) vs. Latitude Linear Regression"
   ]
  },
  {
   "cell_type": "code",
   "execution_count": null,
   "metadata": {},
   "outputs": [],
   "source": [
    "x_value = city_df['humidity']\n",
    "y_value = city_df['lats'] \n",
    "                       \n",
    "(slope, intercept, rvalue, pvalue, std)= linregress(x_value, y_value)\n",
    "regress_value =  x_value * slope + intercept   \n",
    "line_eq = \"y= \" + str(slope) + \"x \" + str(intercept)\n",
    "plt.scatter(x_value, y_value)\n",
    "plt.xlabel(\"Humidity\")\n",
    "plt.ylabel(\"Latitude\")\n",
    "plt.plot(x_value, regress_value)\n",
    "print(\"the correlation coefficient is \" + str(rvalue))\n",
    "print(\"the r squared value is \" + str(rvalue**2))\n",
    "plt.show()"
   ]
  },
  {
   "cell_type": "markdown",
   "metadata": {},
   "source": [
    "####  Northern Hemisphere - Cloudiness (%) vs. Latitude Linear Regression"
   ]
  },
  {
   "cell_type": "code",
   "execution_count": null,
   "metadata": {},
   "outputs": [],
   "source": [
    "x_value = city_df['all']\n",
    "y_value = city_df['latn'] \n",
    "                       \n",
    "(slope, intercept, rvalue, pvalue, std)= linregress(x_value, y_value)\n",
    "regress_value =  x_value * slope + intercept   \n",
    "line_eq = \"y= \" + str(slope) + \"x \" + str(intercept)\n",
    "plt.scatter(x_value, y_value)\n",
    "plt.xlabel(\"Cloudiness\")\n",
    "plt.ylabel(\"Latitude\")\n",
    "plt.plot(x_value, regress_value)\n",
    "print(\"the correlation coefficient is \" + str(rvalue))\n",
    "print(\"the r squared value is \" + str(rvalue**2))\n",
    "plt.show()"
   ]
  },
  {
   "cell_type": "markdown",
   "metadata": {},
   "source": [
    "####  Southern Hemisphere - Cloudiness (%) vs. Latitude Linear Regression"
   ]
  },
  {
   "cell_type": "code",
   "execution_count": null,
   "metadata": {},
   "outputs": [],
   "source": [
    "x_value = city_df['all']\n",
    "y_value = city_df['lats'] \n",
    "                       \n",
    "(slope, intercept, rvalue, pvalue, std)= linregress(x_value, y_value)\n",
    "regress_value =  x_value * slope + intercept   \n",
    "line_eq = \"y= \" + str(slope) + \"x \" + str(intercept)\n",
    "plt.scatter(x_value, y_value)\n",
    "plt.xlabel(\"Cloudiness\")\n",
    "plt.ylabel(\"Latitude\")\n",
    "plt.plot(x_value, regress_value)\n",
    "print(\"the correlation coefficient is \" + str(rvalue))\n",
    "print(\"the r squared value is \" + str(rvalue**2))\n",
    "plt.show()"
   ]
  },
  {
   "cell_type": "markdown",
   "metadata": {},
   "source": [
    "####  Northern Hemisphere - Wind Speed (mph) vs. Latitude Linear Regression"
   ]
  },
  {
   "cell_type": "code",
   "execution_count": null,
   "metadata": {},
   "outputs": [],
   "source": [
    "x_value = city_df['speed']\n",
    "y_value = city_df['latn'] \n",
    "                       \n",
    "(slope, intercept, rvalue, pvalue, std)= linregress(x_value, y_value)\n",
    "regress_value =  x_value * slope + intercept   \n",
    "line_eq = \"y= \" + str(slope) + \"x \" + str(intercept)\n",
    "plt.scatter(x_value, y_value)\n",
    "plt.xlabel(\"Wind Speed\")\n",
    "plt.ylabel(\"Latitude\")\n",
    "plt.plot(x_value, regress_value)\n",
    "print(\"the correlation coefficient is \" + str(rvalue))\n",
    "print(\"the r squared value is \" + str(rvalue**2))\n",
    "plt.show()"
   ]
  },
  {
   "cell_type": "markdown",
   "metadata": {},
   "source": [
    "####  Southern Hemisphere - Wind Speed (mph) vs. Latitude Linear Regression"
   ]
  },
  {
   "cell_type": "code",
   "execution_count": null,
   "metadata": {},
   "outputs": [],
   "source": [
    "x_value = city_df['speed']\n",
    "y_value = city_df['lats'] \n",
    "                       \n",
    "(slope, intercept, rvalue, pvalue, std)= linregress(x_value, y_value)\n",
    "regress_value =  x_value * slope + intercept   \n",
    "line_eq = \"y= \" + str(slope) + \"x \" + str(intercept)\n",
    "plt.scatter(x_value, y_value)\n",
    "plt.xlabel(\"Wind Speed\")\n",
    "plt.ylabel(\"Latitude\")\n",
    "plt.plot(x_value, regress_value)\n",
    "print(\"the correlation coefficient is \" + str(rvalue))\n",
    "print(\"the r squared value is \" + str(rvalue**2))\n",
    "plt.show()"
   ]
  },
  {
   "cell_type": "code",
   "execution_count": null,
   "metadata": {},
   "outputs": [],
   "source": []
  }
 ],
 "metadata": {
  "anaconda-cloud": {},
  "kernel_info": {
   "name": "python3"
  },
  "kernelspec": {
   "display_name": "Python [conda env:PythonData]",
   "language": "python",
   "name": "conda-env-PythonData-py"
  },
  "language_info": {
   "codemirror_mode": {
    "name": "ipython",
    "version": 3
   },
   "file_extension": ".py",
   "mimetype": "text/x-python",
   "name": "python",
   "nbconvert_exporter": "python",
   "pygments_lexer": "ipython3",
   "version": "3.6.10"
  },
  "latex_envs": {
   "LaTeX_envs_menu_present": true,
   "autoclose": false,
   "autocomplete": true,
   "bibliofile": "biblio.bib",
   "cite_by": "apalike",
   "current_citInitial": 1,
   "eqLabelWithNumbers": true,
   "eqNumInitial": 1,
   "hotkeys": {
    "equation": "Ctrl-E",
    "itemize": "Ctrl-I"
   },
   "labels_anchors": false,
   "latex_user_defs": false,
   "report_style_numbering": false,
   "user_envs_cfg": false
  },
  "nteract": {
   "version": "0.12.3"
  }
 },
 "nbformat": 4,
 "nbformat_minor": 2
}
