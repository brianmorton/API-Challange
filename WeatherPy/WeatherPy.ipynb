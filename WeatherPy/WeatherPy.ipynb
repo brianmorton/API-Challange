{
 "cells": [
  {
   "cell_type": "markdown",
   "metadata": {},
   "source": [
    "# WeatherPy\n",
    "----\n",
    "\n",
    "#### Note\n",
    "* Instructions have been included for each segment. You do not have to follow them exactly, but they are included to help you think through the steps."
   ]
  },
  {
   "cell_type": "code",
   "execution_count": 47,
   "metadata": {
    "scrolled": true
   },
   "outputs": [],
   "source": [
    "# Dependencies and Setup\n",
    "import matplotlib.pyplot as plt\n",
    "import pandas as pd\n",
    "import numpy as np\n",
    "import requests\n",
    "import time\n",
    "from scipy.stats import linregress\n",
    "import json\n",
    "import matplotlib.pyplot as plt\n",
    "# Import API key\n",
    "from api_keys import weather_api_key\n",
    "\n",
    "# Incorporated citipy to determine city based on latitude and longitude\n",
    "from citipy import citipy\n",
    "\n",
    "# Output File (CSV)\n",
    "output_data_file = \"output_data/cities.csv\"\n",
    "\n",
    "# Range of latitudes and longitudes\n",
    "lat_range = (-90, 90)\n",
    "lng_range = (-180, 180)\n",
    "\n",
    "url = \"http://api.openweathermap.org/data/2.5/weather?q=\"\n",
    "appid = \"&appid=\"\n",
    "city_df = []"
   ]
  },
  {
   "cell_type": "markdown",
   "metadata": {},
   "source": [
    "## Generate Cities List"
   ]
  },
  {
   "cell_type": "code",
   "execution_count": 2,
   "metadata": {},
   "outputs": [
    {
     "data": {
      "text/plain": [
       "637"
      ]
     },
     "execution_count": 2,
     "metadata": {},
     "output_type": "execute_result"
    }
   ],
   "source": [
    "# List for holding lat_lngs and cities\n",
    "lat_lngs = []\n",
    "cities = []\n",
    "\n",
    "# Create a set of random lat and lng combinations\n",
    "lats = np.random.uniform(lat_range[0], lat_range[1], size=1500)\n",
    "lngs = np.random.uniform(lng_range[0], lng_range[1], size=1500)\n",
    "lat_lngs = zip(lats, lngs)\n",
    "\n",
    "# Identify nearest city for each lat, lng combination\n",
    "for lat_lng in lat_lngs:\n",
    "    city = citipy.nearest_city(lat_lng[0], lat_lng[1]).city_name\n",
    "    \n",
    "    # If the city is unique, then add it to a our cities list\n",
    "    if city not in cities:\n",
    "        cities.append(city)\n",
    "\n",
    "# Print the city count to confirm sufficient count\n",
    "len(cities)"
   ]
  },
  {
   "cell_type": "markdown",
   "metadata": {},
   "source": [
    "### Perform API Calls\n",
    "* Perform a weather check on each city using a series of successive API calls.\n",
    "* Include a print log of each city as it'sbeing processed (with the city number and city name).\n"
   ]
  },
  {
   "cell_type": "code",
   "execution_count": 3,
   "metadata": {},
   "outputs": [
    {
     "name": "stdout",
     "output_type": "stream",
     "text": [
      "city name is Rikitea and the position is: 1\n",
      "city name is Madimba and the position is: 2\n",
      "city name is Iranshahr and the position is: 3\n",
      "city name is Tiksi and the position is: 4\n",
      "city name is Carballo and the position is: 5\n",
      "city name is Nikolskoye and the position is: 6\n",
      "city name is Hambantota and the position is: 7\n",
      "city name is Touros and the position is: 8\n",
      "city name is Qaanaaq and the position is: 9\n",
      "city name is Hobart and the position is: 10\n"
     ]
    }
   ],
   "source": [
    "# loop thru (cities) and print each name/id\n",
    "counter = 1\n",
    "\n",
    "country= []\n",
    "cityn = []\n",
    "lats = []\n",
    "lngs = []\n",
    "temps = []\n",
    "max_temps = []\n",
    "humidities = []\n",
    "clouds = []\n",
    "winds = []\n",
    "\n",
    "for cityname in cities:\n",
    "    if counter < 500:\n",
    "        try:\n",
    "            query_url = url + cityname + appid + weather_api_key\n",
    "            city_request = requests.get(query_url).json()\n",
    "            city_name = city_request['name']\n",
    "            city_lat = city_request['coord']['lat']\n",
    "            city_long = city_request['coord']['lon']\n",
    "            city_temp = city_request['main']['temp']\n",
    "            city_max = city_request['main']['temp_max']\n",
    "            city_hum = city_request['main']['humidity']\n",
    "            city_cloud = city_request['clouds']['all']\n",
    "            city_wind = city_request['wind']['speed']\n",
    "            # get country info\n",
    "            country_info = city_request['sys']['country']\n",
    "            # append city name\n",
    "            cityn.append(city_name)\n",
    "            # append country info\n",
    "            country.append(country_info)\n",
    "            lats.append(city_lat)\n",
    "            lngs.append(city_long)\n",
    "            temps.append(city_temp)\n",
    "            max_temps.append(city_max)\n",
    "            humidities.append(city_hum)\n",
    "            clouds.append(city_cloud)\n",
    "            winds.append(city_wind)\n",
    "            print(\"city name is \" + str(city_name) + \" and the position is: \" + str(counter))\n",
    "            counter = counter + 1\n",
    "        except:\n",
    "            break"
   ]
  },
  {
   "cell_type": "code",
   "execution_count": 4,
   "metadata": {},
   "outputs": [
    {
     "data": {
      "text/plain": [
       "[-23.1203,\n",
       " -10.4,\n",
       " 27.2025,\n",
       " 71.6872,\n",
       " 43.213,\n",
       " 59.7035,\n",
       " 6.1241,\n",
       " -5.1989,\n",
       " 77.484,\n",
       " -42.8794]"
      ]
     },
     "execution_count": 4,
     "metadata": {},
     "output_type": "execute_result"
    }
   ],
   "source": [
    "lats"
   ]
  },
  {
   "cell_type": "markdown",
   "metadata": {},
   "source": [
    "### Convert Raw Data to DataFrame\n",
    "* Export the city data into a .csv.\n",
    "* Display the DataFrame"
   ]
  },
  {
   "cell_type": "code",
   "execution_count": 5,
   "metadata": {
    "scrolled": true
   },
   "outputs": [
    {
     "data": {
      "text/plain": [
       "{'country': ['PF', 'TZ', 'IR', 'RU', 'ES', 'RU', 'LK', 'BR', 'GL', 'AU'],\n",
       " 'cityn': ['Rikitea',\n",
       "  'Madimba',\n",
       "  'Iranshahr',\n",
       "  'Tiksi',\n",
       "  'Carballo',\n",
       "  'Nikolskoye',\n",
       "  'Hambantota',\n",
       "  'Touros',\n",
       "  'Qaanaaq',\n",
       "  'Hobart'],\n",
       " 'lats': [-23.1203,\n",
       "  -10.4,\n",
       "  27.2025,\n",
       "  71.6872,\n",
       "  43.213,\n",
       "  59.7035,\n",
       "  6.1241,\n",
       "  -5.1989,\n",
       "  77.484,\n",
       "  -42.8794],\n",
       " 'lngs': [-134.9692,\n",
       "  40.3333,\n",
       "  60.6848,\n",
       "  128.8694,\n",
       "  -8.691,\n",
       "  30.7861,\n",
       "  81.1185,\n",
       "  -35.4608,\n",
       "  -69.3632,\n",
       "  147.3294],\n",
       " 'temps': [299.63,\n",
       "  300.21,\n",
       "  285.15,\n",
       "  245.2,\n",
       "  286.39,\n",
       "  253.61,\n",
       "  300.15,\n",
       "  300.15,\n",
       "  257.29,\n",
       "  290.64],\n",
       " 'max_temps': [299.63,\n",
       "  300.21,\n",
       "  285.15,\n",
       "  245.2,\n",
       "  288.15,\n",
       "  255.37,\n",
       "  300.15,\n",
       "  300.15,\n",
       "  257.29,\n",
       "  292.04],\n",
       " 'humidities': [77, 86, 15, 88, 55, 77, 94, 78, 88, 67],\n",
       " 'clouds': [76, 100, 0, 100, 0, 40, 20, 75, 100, 75],\n",
       " 'winds': [7.2, 5.88, 4.12, 2.32, 5.66, 4, 4.12, 4.12, 1.26, 3.6]}"
      ]
     },
     "execution_count": 5,
     "metadata": {},
     "output_type": "execute_result"
    }
   ],
   "source": [
    "# api call template: api.openweathermap.org/data/2.5/weather?q={city name}&appid={API key}\n",
    "#sample call for city yellowknife\n",
    "\n",
    "#.append not adding\n",
    "#no .append results in single float point\n",
    "\n",
    "city_df = []\n",
    "\n",
    "        \n",
    "\n",
    "city_df = {\n",
    "    'country' : country,\n",
    "           'cityn' : cityn,\n",
    "    'lats' : lats,\n",
    "    'lngs' : lngs,\n",
    "    \"temps\" : temps,\n",
    "    'max_temps' : max_temps,\n",
    "    'humidities' : humidities,\n",
    "    'clouds' : clouds,\n",
    "    'winds' : winds\n",
    "               \n",
    "} \n",
    "city_df\n",
    "\n",
    "\n",
    "\n"
   ]
  },
  {
   "cell_type": "markdown",
   "metadata": {},
   "source": [
    "## Inspect the data and remove the cities where the humidity > 100%.\n",
    "----\n",
    "Skip this step if there are no cities that have humidity > 100%. "
   ]
  },
  {
   "cell_type": "code",
   "execution_count": null,
   "metadata": {},
   "outputs": [],
   "source": []
  },
  {
   "cell_type": "code",
   "execution_count": 6,
   "metadata": {},
   "outputs": [],
   "source": [
    "#convet to df\n",
    "cities_df = pd.DataFrame(city_df)"
   ]
  },
  {
   "cell_type": "code",
   "execution_count": 7,
   "metadata": {},
   "outputs": [],
   "source": [
    "#  Get the indices of cities that have humidity over 100%.\n"
   ]
  },
  {
   "cell_type": "code",
   "execution_count": 8,
   "metadata": {},
   "outputs": [],
   "source": [
    "# Make a new DataFrame equal to the city data to drop all humidity outliers by index.\n",
    "# Passing \"inplace=False\" will make a copy of the city_data DataFrame, which we call \"clean_city_data\".\n"
   ]
  },
  {
   "cell_type": "code",
   "execution_count": 10,
   "metadata": {},
   "outputs": [],
   "source": [
    "\n",
    "\n",
    "#export to csv \n",
    "cities_df.to_csv(\"../output_data/cities.csv\")\n"
   ]
  },
  {
   "cell_type": "markdown",
   "metadata": {},
   "source": [
    "## Plotting the Data\n",
    "* Use proper labeling of the plots using plot titles (including date of analysis) and axes labels.\n",
    "* Save the plotted figures as .pngs."
   ]
  },
  {
   "cell_type": "markdown",
   "metadata": {},
   "source": [
    "## Latitude vs. Temperature Plot"
   ]
  },
  {
   "cell_type": "code",
   "execution_count": 57,
   "metadata": {
    "scrolled": true
   },
   "outputs": [
    {
     "ename": "ValueError",
     "evalue": "either both or neither of x and y should be given",
     "output_type": "error",
     "traceback": [
      "\u001b[1;31m---------------------------------------------------------------------------\u001b[0m",
      "\u001b[1;31mValueError\u001b[0m                                Traceback (most recent call last)",
      "\u001b[1;32m<ipython-input-57-b90d2668aca0>\u001b[0m in \u001b[0;36m<module>\u001b[1;34m\u001b[0m\n\u001b[1;32m----> 1\u001b[1;33m \u001b[0mcities_df\u001b[0m\u001b[1;33m[\u001b[0m\u001b[1;34m\"latn\"\u001b[0m\u001b[1;33m]\u001b[0m \u001b[1;33m=\u001b[0m \u001b[0mnp\u001b[0m\u001b[1;33m.\u001b[0m\u001b[0mwhere\u001b[0m\u001b[1;33m(\u001b[0m\u001b[0mcities_df\u001b[0m\u001b[1;33m.\u001b[0m\u001b[0mlats\u001b[0m \u001b[1;33m>\u001b[0m \u001b[1;36m0\u001b[0m\u001b[1;33m,\u001b[0m \u001b[0mcities_df\u001b[0m\u001b[1;33m.\u001b[0m\u001b[0mlats\u001b[0m\u001b[1;33m)\u001b[0m\u001b[1;33m\u001b[0m\u001b[1;33m\u001b[0m\u001b[0m\n\u001b[0m\u001b[0;32m      2\u001b[0m \u001b[0mcities_df\u001b[0m\u001b[1;33m[\u001b[0m\u001b[1;34m\"lats\"\u001b[0m\u001b[1;33m]\u001b[0m \u001b[1;33m=\u001b[0m \u001b[0mnp\u001b[0m\u001b[1;33m.\u001b[0m\u001b[0mwhere\u001b[0m\u001b[1;33m(\u001b[0m\u001b[0mcities_df\u001b[0m\u001b[1;33m.\u001b[0m\u001b[0mlats\u001b[0m \u001b[1;33m<\u001b[0m \u001b[1;36m0\u001b[0m\u001b[1;33m,\u001b[0m \u001b[1;33m-\u001b[0m \u001b[0mcities_df\u001b[0m\u001b[1;33m.\u001b[0m\u001b[0mlats\u001b[0m\u001b[1;33m)\u001b[0m\u001b[1;33m\u001b[0m\u001b[1;33m\u001b[0m\u001b[0m\n\u001b[0;32m      3\u001b[0m \u001b[1;33m\u001b[0m\u001b[0m\n\u001b[0;32m      4\u001b[0m \u001b[1;33m\u001b[0m\u001b[0m\n\u001b[0;32m      5\u001b[0m \u001b[0mcities_df\u001b[0m\u001b[1;33m.\u001b[0m\u001b[0mplot\u001b[0m\u001b[1;33m.\u001b[0m\u001b[0mscatter\u001b[0m\u001b[1;33m(\u001b[0m\u001b[0mx\u001b[0m\u001b[1;33m=\u001b[0m\u001b[1;34m'lats'\u001b[0m\u001b[1;33m,\u001b[0m \u001b[0my\u001b[0m\u001b[1;33m=\u001b[0m\u001b[1;34m'temps'\u001b[0m \u001b[1;33m)\u001b[0m\u001b[1;33m\u001b[0m\u001b[1;33m\u001b[0m\u001b[0m\n",
      "\u001b[1;32m<__array_function__ internals>\u001b[0m in \u001b[0;36mwhere\u001b[1;34m(*args, **kwargs)\u001b[0m\n",
      "\u001b[1;31mValueError\u001b[0m: either both or neither of x and y should be given"
     ]
    }
   ],
   "source": [
    "cities_df[\"latn\"] = np.where(cities_df.lats > 0, cities_df.lats, 0)\n",
    "cities_df[\"lats\"] = np.where(cities_df.lats < 0, - cities_df.lats, 0) \n",
    "\n",
    "\n",
    "cities_df.plot.scatter(x='lats', y='temps' )\n",
    "\n"
   ]
  },
  {
   "cell_type": "markdown",
   "metadata": {},
   "source": [
    "## Latitude vs. Humidity Plot"
   ]
  },
  {
   "cell_type": "code",
   "execution_count": 24,
   "metadata": {},
   "outputs": [
    {
     "data": {
      "text/plain": [
       "<matplotlib.axes._subplots.AxesSubplot at 0x1e0d4d6a780>"
      ]
     },
     "execution_count": 24,
     "metadata": {},
     "output_type": "execute_result"
    },
    {
     "data": {
      "image/png": "[encoded data removed]",
      "text/plain": [
       "<Figure size 432x288 with 1 Axes>"
      ]
     },
     "metadata": {
      "needs_background": "light"
     },
     "output_type": "display_data"
    }
   ],
   "source": [
    "cities_df.plot.scatter(x='lats', y='humidities' )\n",
    "#AxesSubplot:xlabel='Latitude', ylabel='Humidity'\n",
    "    "
   ]
  },
  {
   "cell_type": "markdown",
   "metadata": {},
   "source": [
    "## Latitude vs. Cloudiness Plot"
   ]
  },
  {
   "cell_type": "code",
   "execution_count": 26,
   "metadata": {},
   "outputs": [
    {
     "data": {
      "text/plain": [
       "<matplotlib.axes._subplots.AxesSubplot at 0x1e0d4dcdbe0>"
      ]
     },
     "execution_count": 26,
     "metadata": {},
     "output_type": "execute_result"
    },
    {
     "data": {
      "image/png": "[encoded data removed]",
      "text/plain": [
       "<Figure size 432x288 with 1 Axes>"
      ]
     },
     "metadata": {
      "needs_background": "light"
     },
     "output_type": "display_data"
    }
   ],
   "source": [
    "cities_df.plot.scatter(x='lats', y='clouds' )\n",
    "#AxesSubplot:xlabel='Latitude', ylabel='Cloudiness'"
   ]
  },
  {
   "cell_type": "markdown",
   "metadata": {},
   "source": [
    "## Latitude vs. Wind Speed Plot"
   ]
  },
  {
   "cell_type": "code",
   "execution_count": 28,
   "metadata": {},
   "outputs": [
    {
     "data": {
      "text/plain": [
       "<matplotlib.axes._subplots.AxesSubplot at 0x1e0d4e29ac8>"
      ]
     },
     "execution_count": 28,
     "metadata": {},
     "output_type": "execute_result"
    },
    {
     "data": {
      "image/png": "[encoded data removed]",
      "text/plain": [
       "<Figure size 432x288 with 1 Axes>"
      ]
     },
     "metadata": {
      "needs_background": "light"
     },
     "output_type": "display_data"
    }
   ],
   "source": [
    "cities_df.plot.scatter(x='lats', y='winds' )\n",
    "#AxesSubplot:xlabel='Latitude', ylabel='Wind Speed'"
   ]
  },
  {
   "cell_type": "markdown",
   "metadata": {},
   "source": [
    "## Linear Regression"
   ]
  },
  {
   "cell_type": "code",
   "execution_count": null,
   "metadata": {},
   "outputs": [],
   "source": []
  },
  {
   "cell_type": "markdown",
   "metadata": {},
   "source": [
    "####  Northern Hemisphere - Max Temp vs. Latitude Linear Regression"
   ]
  },
  {
   "cell_type": "code",
   "execution_count": 48,
   "metadata": {},
   "outputs": [
    {
     "name": "stdout",
     "output_type": "stream",
     "text": [
      "the correlation coefficient is 0.0\n"
     ]
    },
    {
     "data": {
      "image/png": "[encoded data removed]",
      "text/plain": [
       "<Figure size 432x288 with 1 Axes>"
      ]
     },
     "metadata": {
      "needs_background": "light"
     },
     "output_type": "display_data"
    }
   ],
   "source": [
    "x_value = cities_df['max_temps']\n",
    "y_value = cities_df['latn'] \n",
    "                       \n",
    "(slope, intercept, rvalue, pvalue, std)= linregress(x_value, y_value)\n",
    "regress_value =  x_value * slope + intercept   \n",
    "line_eq = \"y= \" + str(slope) + \"x \" + str(intercept)\n",
    "plt.scatter(x_value, y_value)\n",
    "plt.xlabel(\"Max Temp\")\n",
    "plt.ylabel(\"Latitude\")\n",
    "plt.plot(x_value, regress_value)\n",
    "print(\"the correlation coefficient is \" + str(rvalue))\n",
    "#print(\"the r squared value is \" + str(rvalue**2))\n",
    "plt.show()"
   ]
  },
  {
   "cell_type": "markdown",
   "metadata": {},
   "source": [
    "####  Southern Hemisphere - Max Temp vs. Latitude Linear Regression"
   ]
  },
  {
   "cell_type": "code",
   "execution_count": 50,
   "metadata": {},
   "outputs": [
    {
     "name": "stdout",
     "output_type": "stream",
     "text": [
      "the correlation coefficient is 0.0\n"
     ]
    },
    {
     "data": {
      "image/png": "[encoded data removed]",
      "text/plain": [
       "<Figure size 432x288 with 1 Axes>"
      ]
     },
     "metadata": {
      "needs_background": "light"
     },
     "output_type": "display_data"
    }
   ],
   "source": [
    "x_value = cities_df['max_temps']\n",
    "y_value = cities_df['lats'] \n",
    "                       \n",
    "(slope, intercept, rvalue, pvalue, std)= linregress(x_value, y_value)\n",
    "regress_value =  x_value * slope + intercept   \n",
    "line_eq = \"y= \" + str(slope) + \"x \" + str(intercept)\n",
    "plt.scatter(x_value, y_value)\n",
    "plt.xlabel(\"Max Temp\")\n",
    "plt.ylabel(\"Latitude\")\n",
    "plt.plot(x_value, regress_value)\n",
    "print(\"the correlation coefficient is \" + str(rvalue))\n",
    "#print(\"the r squared value is \" + str(rvalue**2))\n",
    "plt.show()"
   ]
  },
  {
   "cell_type": "markdown",
   "metadata": {},
   "source": [
    "####  Northern Hemisphere - Humidity (%) vs. Latitude Linear Regression"
   ]
  },
  {
   "cell_type": "code",
   "execution_count": 52,
   "metadata": {},
   "outputs": [
    {
     "name": "stdout",
     "output_type": "stream",
     "text": [
      "the correlation coefficient is 0.0\n"
     ]
    },
    {
     "data": {
      "image/png": "[encoded data removed]",
      "text/plain": [
       "<Figure size 432x288 with 1 Axes>"
      ]
     },
     "metadata": {
      "needs_background": "light"
     },
     "output_type": "display_data"
    }
   ],
   "source": [
    "x_value = cities_df['humidities']\n",
    "y_value = cities_df['latn'] \n",
    "                       \n",
    "(slope, intercept, rvalue, pvalue, std)= linregress(x_value, y_value)\n",
    "regress_value =  x_value * slope + intercept   \n",
    "line_eq = \"y= \" + str(slope) + \"x \" + str(intercept)\n",
    "plt.scatter(x_value, y_value)\n",
    "plt.xlabel(\"Humidity\")\n",
    "plt.ylabel(\"Latitude\")\n",
    "plt.plot(x_value, regress_value)\n",
    "print(\"the correlation coefficient is \" + str(rvalue))\n",
    "#print(\"the r squared value is \" + str(rvalue**2))\n",
    "plt.show()"
   ]
  },
  {
   "cell_type": "markdown",
   "metadata": {},
   "source": [
    "####  Southern Hemisphere - Humidity (%) vs. Latitude Linear Regression"
   ]
  },
  {
   "cell_type": "code",
   "execution_count": 53,
   "metadata": {},
   "outputs": [
    {
     "name": "stdout",
     "output_type": "stream",
     "text": [
      "the correlation coefficient is 0.0\n"
     ]
    },
    {
     "data": {
      "image/png": "[encoded data removed]",
      "text/plain": [
       "<Figure size 432x288 with 1 Axes>"
      ]
     },
     "metadata": {
      "needs_background": "light"
     },
     "output_type": "display_data"
    }
   ],
   "source": [
    "x_value = cities_df['humidities']\n",
    "y_value = cities_df['lats'] \n",
    "                       \n",
    "(slope, intercept, rvalue, pvalue, std)= linregress(x_value, y_value)\n",
    "regress_value =  x_value * slope + intercept   \n",
    "line_eq = \"y= \" + str(slope) + \"x \" + str(intercept)\n",
    "plt.scatter(x_value, y_value)\n",
    "plt.xlabel(\"Humidity\")\n",
    "plt.ylabel(\"Latitude\")\n",
    "plt.plot(x_value, regress_value)\n",
    "print(\"the correlation coefficient is \" + str(rvalue))\n",
    "#print(\"the r squared value is \" + str(rvalue**2))\n",
    "plt.show()"
   ]
  },
  {
   "cell_type": "markdown",
   "metadata": {},
   "source": [
    "####  Northern Hemisphere - Cloudiness (%) vs. Latitude Linear Regression"
   ]
  },
  {
   "cell_type": "code",
   "execution_count": 54,
   "metadata": {},
   "outputs": [
    {
     "name": "stdout",
     "output_type": "stream",
     "text": [
      "the correlation coefficient is 0.0\n"
     ]
    },
    {
     "data": {
      "image/png": "[encoded data removed]",
      "text/plain": [
       "<Figure size 432x288 with 1 Axes>"
      ]
     },
     "metadata": {
      "needs_background": "light"
     },
     "output_type": "display_data"
    }
   ],
   "source": [
    "x_value = cities_df['clouds']\n",
    "y_value = cities_df['latn'] \n",
    "                       \n",
    "(slope, intercept, rvalue, pvalue, std)= linregress(x_value, y_value)\n",
    "regress_value =  x_value * slope + intercept   \n",
    "line_eq = \"y= \" + str(slope) + \"x \" + str(intercept)\n",
    "plt.scatter(x_value, y_value)\n",
    "plt.xlabel(\"Cloudiness\")\n",
    "plt.ylabel(\"Latitude\")\n",
    "plt.plot(x_value, regress_value)\n",
    "print(\"the correlation coefficient is \" + str(rvalue))\n",
    "#print(\"the r squared value is \" + str(rvalue**2))\n",
    "plt.show()"
   ]
  },
  {
   "cell_type": "markdown",
   "metadata": {},
   "source": [
    "####  Southern Hemisphere - Cloudiness (%) vs. Latitude Linear Regression"
   ]
  },
  {
   "cell_type": "code",
   "execution_count": null,
   "metadata": {},
   "outputs": [],
   "source": [
    "x_value = cities_df['clouds']\n",
    "y_value = cities_df['lats'] \n",
    "                       \n",
    "(slope, intercept, rvalue, pvalue, std)= linregress(x_value, y_value)\n",
    "regress_value =  x_value * slope + intercept   \n",
    "line_eq = \"y= \" + str(slope) + \"x \" + str(intercept)\n",
    "plt.scatter(x_value, y_value)\n",
    "plt.xlabel(\"Cloudiness\")\n",
    "plt.ylabel(\"Latitude\")\n",
    "plt.plot(x_value, regress_value)\n",
    "print(\"the correlation coefficient is \" + str(rvalue))\n",
    "#print(\"the r squared value is \" + str(rvalue**2))\n",
    "plt.show()"
   ]
  },
  {
   "cell_type": "markdown",
   "metadata": {},
   "source": [
    "####  Northern Hemisphere - Wind Speed (mph) vs. Latitude Linear Regression"
   ]
  },
  {
   "cell_type": "code",
   "execution_count": 55,
   "metadata": {},
   "outputs": [
    {
     "name": "stdout",
     "output_type": "stream",
     "text": [
      "the correlation coefficient is 0.0\n"
     ]
    },
    {
     "data": {
      "image/png": "[encoded data removed]",
      "text/plain": [
       "<Figure size 432x288 with 1 Axes>"
      ]
     },
     "metadata": {
      "needs_background": "light"
     },
     "output_type": "display_data"
    }
   ],
   "source": [
    "x_value = cities_df['winds']\n",
    "y_value = cities_df['latn'] \n",
    "                       \n",
    "(slope, intercept, rvalue, pvalue, std)= linregress(x_value, y_value)\n",
    "regress_value =  x_value * slope + intercept   \n",
    "line_eq = \"y= \" + str(slope) + \"x \" + str(intercept)\n",
    "plt.scatter(x_value, y_value)\n",
    "plt.xlabel(\"Wind Speed\")\n",
    "plt.ylabel(\"Latitude\")\n",
    "plt.plot(x_value, regress_value)\n",
    "print(\"the correlation coefficient is \" + str(rvalue))\n",
    "#print(\"the r squared value is \" + str(rvalue**2))\n",
    "plt.show()"
   ]
  },
  {
   "cell_type": "markdown",
   "metadata": {},
   "source": [
    "####  Southern Hemisphere - Wind Speed (mph) vs. Latitude Linear Regression"
   ]
  },
  {
   "cell_type": "code",
   "execution_count": null,
   "metadata": {},
   "outputs": [],
   "source": [
    "x_value = cities_df['winds']\n",
    "y_value = cities_df['lats'] \n",
    "                       \n",
    "(slope, intercept, rvalue, pvalue, std)= linregress(x_value, y_value)\n",
    "regress_value =  x_value * slope + intercept   \n",
    "line_eq = \"y= \" + str(slope) + \"x \" + str(intercept)\n",
    "plt.scatter(x_value, y_value)\n",
    "plt.xlabel(\"Wind Speed\")\n",
    "plt.ylabel(\"Latitude\")\n",
    "plt.plot(x_value, regress_value)\n",
    "print(\"the correlation coefficient is \" + str(rvalue))\n",
    "#print(\"the r squared value is \" + str(rvalue**2))\n",
    "plt.show()"
   ]
  },
  {
   "cell_type": "code",
   "execution_count": null,
   "metadata": {},
   "outputs": [],
   "source": []
  }
 ],
 "metadata": {
  "anaconda-cloud": {},
  "kernel_info": {
   "name": "python3"
  },
  "kernelspec": {
   "display_name": "Python [conda env:PythonData]",
   "language": "python",
   "name": "conda-env-PythonData-py"
  },
  "language_info": {
   "codemirror_mode": {
    "name": "ipython",
    "version": 3
   },
   "file_extension": ".py",
   "mimetype": "text/x-python",
   "name": "python",
   "nbconvert_exporter": "python",
   "pygments_lexer": "ipython3",
   "version": "3.6.10"
  },
  "latex_envs": {
   "LaTeX_envs_menu_present": true,
   "autoclose": false,
   "autocomplete": true,
   "bibliofile": "biblio.bib",
   "cite_by": "apalike",
   "current_citInitial": 1,
   "eqLabelWithNumbers": true,
   "eqNumInitial": 1,
   "hotkeys": {
    "equation": "Ctrl-E",
    "itemize": "Ctrl-I"
   },
   "labels_anchors": false,
   "latex_user_defs": false,
   "report_style_numbering": false,
   "user_envs_cfg": false
  },
  "nteract": {
   "version": "0.12.3"
  }
 },
 "nbformat": 4,
 "nbformat_minor": 2
}
