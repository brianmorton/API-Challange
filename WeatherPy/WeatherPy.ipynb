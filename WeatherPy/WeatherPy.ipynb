{
 "cells": [
  {
   "cell_type": "markdown",
   "metadata": {},
   "source": [
    "# WeatherPy\n",
    "----\n",
    "\n",
    "#### Note\n",
    "* Instructions have been included for each segment. You do not have to follow them exactly, but they are included to help you think through the steps."
   ]
  },
  {
   "cell_type": "code",
   "execution_count": 1,
   "metadata": {
    "scrolled": true
   },
   "outputs": [],
   "source": [
    "# Dependencies and Setup\n",
    "import matplotlib.pyplot as plt\n",
    "import pandas as pd\n",
    "import numpy as np\n",
    "import requests\n",
    "import time\n",
    "from scipy.stats import linregress\n",
    "import json\n",
    "import matplotlib.pyplot as plt\n",
    "# Import API key\n",
    "from api_keys import weather_api_key\n",
    "\n",
    "# Incorporated citipy to determine city based on latitude and longitude\n",
    "from citipy import citipy\n",
    "\n",
    "# Output File (CSV)\n",
    "output_data_file = \"output_data/cities.csv\"\n",
    "\n",
    "# Range of latitudes and longitudes\n",
    "lat_range = (-90, 90)\n",
    "lng_range = (-180, 180)\n",
    "\n",
    "url = \"http://api.openweathermap.org/data/2.5/weather?q=\"\n",
    "appid = \"&appid=\"\n",
    "city_df = []"
   ]
  },
  {
   "cell_type": "markdown",
   "metadata": {},
   "source": [
    "## Generate Cities List"
   ]
  },
  {
   "cell_type": "code",
   "execution_count": 2,
   "metadata": {},
   "outputs": [
    {
     "data": {
      "text/plain": [
       "622"
      ]
     },
     "execution_count": 2,
     "metadata": {},
     "output_type": "execute_result"
    }
   ],
   "source": [
    "# List for holding lat_lngs and cities\n",
    "lat_lngs = []\n",
    "cities = []\n",
    "\n",
    "# Create a set of random lat and lng combinations\n",
    "lats = np.random.uniform(lat_range[0], lat_range[1], size=1500)\n",
    "lngs = np.random.uniform(lng_range[0], lng_range[1], size=1500)\n",
    "lat_lngs = zip(lats, lngs)\n",
    "\n",
    "# Identify nearest city for each lat, lng combination\n",
    "for lat_lng in lat_lngs:\n",
    "    city = citipy.nearest_city(lat_lng[0], lat_lng[1]).city_name\n",
    "    \n",
    "    # If the city is unique, then add it to a our cities list\n",
    "    if city not in cities:\n",
    "        cities.append(city)\n",
    "\n",
    "# Print the city count to confirm sufficient count\n",
    "len(cities)"
   ]
  },
  {
   "cell_type": "markdown",
   "metadata": {},
   "source": [
    "### Perform API Calls\n",
    "* Perform a weather check on each city using a series of successive API calls.\n",
    "* Include a print log of each city as it'sbeing processed (with the city number and city name).\n"
   ]
  },
  {
   "cell_type": "code",
   "execution_count": 3,
   "metadata": {},
   "outputs": [
    {
     "name": "stdout",
     "output_type": "stream",
     "text": [
      "city name is Raudeberg and the position is: 1\n",
      "city name is Puerto Ayora and the position is: 2\n",
      "city name is Port Hardy and the position is: 3\n",
      "city name is Mehamn and the position is: 4\n",
      "city name is Yellowknife and the position is: 5\n",
      "city name is Nome and the position is: 6\n",
      "city name is Saint-Joseph and the position is: 7\n",
      "city name is Los Llanos de Aridane and the position is: 8\n",
      "city name is Torbay and the position is: 9\n",
      "city name is Hazaribagh and the position is: 10\n",
      "city name is Arraial do Cabo and the position is: 11\n",
      "city name is Dingle and the position is: 12\n",
      "city name is Jacareacanga and the position is: 13\n",
      "city name is Port Alfred and the position is: 14\n",
      "city name is Pittsburg and the position is: 15\n"
     ]
    }
   ],
   "source": [
    "# loop thru (cities) and print each name/id\n",
    "counter = 1\n",
    "\n",
    "country= []\n",
    "cityn = []\n",
    "lats = []\n",
    "lngs = []\n",
    "temps = []\n",
    "max_temps = []\n",
    "humidities = []\n",
    "clouds = []\n",
    "winds = []\n",
    "\n",
    "for cityname in cities:\n",
    "    if counter < 500:\n",
    "        try:\n",
    "            query_url = url + cityname + appid + weather_api_key\n",
    "            city_request = requests.get(query_url).json()\n",
    "            city_name = city_request['name']\n",
    "            city_lat = city_request['coord']['lat']\n",
    "            city_long = city_request['coord']['lon']\n",
    "            city_temp = city_request['main']['temp']\n",
    "            city_max = city_request['main']['temp_max']\n",
    "            city_hum = city_request['main']['humidity']\n",
    "            city_cloud = city_request['clouds']['all']\n",
    "            city_wind = city_request['wind']['speed']\n",
    "            # get country info\n",
    "            country_info = city_request['sys']['country']\n",
    "            # append city name\n",
    "            cityn.append(city_name)\n",
    "            # append country info\n",
    "            country.append(country_info)\n",
    "            lats.append(city_lat)\n",
    "            lngs.append(city_long)\n",
    "            temps.append(city_temp)\n",
    "            max_temps.append(city_max)\n",
    "            humidities.append(city_hum)\n",
    "            clouds.append(city_cloud)\n",
    "            winds.append(city_wind)\n",
    "            print(\"city name is \" + str(city_name) + \" and the position is: \" + str(counter))\n",
    "            counter = counter + 1\n",
    "        except:\n",
    "            break"
   ]
  },
  {
   "cell_type": "code",
   "execution_count": 4,
   "metadata": {},
   "outputs": [
    {
     "data": {
      "text/plain": [
       "[61.9875,\n",
       " -0.7393,\n",
       " 50.6996,\n",
       " 71.0357,\n",
       " 62.456,\n",
       " 64.5011,\n",
       " -21.3667,\n",
       " 28.6585,\n",
       " 47.6666,\n",
       " 23.9833,\n",
       " -22.9661,\n",
       " 10.9995,\n",
       " -6.2222,\n",
       " -33.5906,\n",
       " 38.028]"
      ]
     },
     "execution_count": 4,
     "metadata": {},
     "output_type": "execute_result"
    }
   ],
   "source": [
    "lats"
   ]
  },
  {
   "cell_type": "markdown",
   "metadata": {},
   "source": [
    "### Convert Raw Data to DataFrame\n",
    "* Export the city data into a .csv.\n",
    "* Display the DataFrame"
   ]
  },
  {
   "cell_type": "code",
   "execution_count": 6,
   "metadata": {
    "scrolled": true
   },
   "outputs": [
    {
     "data": {
      "text/plain": [
       "{'country': ['NO',\n",
       "  'EC',\n",
       "  'CA',\n",
       "  'NO',\n",
       "  'CA',\n",
       "  'US',\n",
       "  'RE',\n",
       "  'ES',\n",
       "  'CA',\n",
       "  'IN',\n",
       "  'BR',\n",
       "  'PH',\n",
       "  'BR',\n",
       "  'ZA',\n",
       "  'US'],\n",
       " 'cityn': ['Raudeberg',\n",
       "  'Puerto Ayora',\n",
       "  'Port Hardy',\n",
       "  'Mehamn',\n",
       "  'Yellowknife',\n",
       "  'Nome',\n",
       "  'Saint-Joseph',\n",
       "  'Los Llanos de Aridane',\n",
       "  'Torbay',\n",
       "  'Hazaribagh',\n",
       "  'Arraial do Cabo',\n",
       "  'Dingle',\n",
       "  'Jacareacanga',\n",
       "  'Port Alfred',\n",
       "  'Pittsburg'],\n",
       " 'lats': [61.9875,\n",
       "  -0.7393,\n",
       "  50.6996,\n",
       "  71.0357,\n",
       "  62.456,\n",
       "  64.5011,\n",
       "  -21.3667,\n",
       "  28.6585,\n",
       "  47.6666,\n",
       "  23.9833,\n",
       "  -22.9661,\n",
       "  10.9995,\n",
       "  -6.2222,\n",
       "  -33.5906,\n",
       "  38.028],\n",
       " 'lngs': [5.1352,\n",
       "  -90.3518,\n",
       "  -127.4199,\n",
       "  27.8492,\n",
       "  -114.3525,\n",
       "  -165.4064,\n",
       "  55.6167,\n",
       "  -17.9182,\n",
       "  -52.7314,\n",
       "  85.35,\n",
       "  -42.0278,\n",
       "  122.6711,\n",
       "  -57.7528,\n",
       "  26.891,\n",
       "  -121.8847],\n",
       " 'temps': [278.15,\n",
       "  299.26,\n",
       "  278.31,\n",
       "  266.15,\n",
       "  240.44,\n",
       "  256.15,\n",
       "  300.17,\n",
       "  293.24,\n",
       "  269.73,\n",
       "  291.73,\n",
       "  303.15,\n",
       "  296.71,\n",
       "  303.41,\n",
       "  293.71,\n",
       "  281.88],\n",
       " 'max_temps': [278.15,\n",
       "  301.15,\n",
       "  280.15,\n",
       "  266.15,\n",
       "  240.93,\n",
       "  256.15,\n",
       "  301.15,\n",
       "  295.15,\n",
       "  270.93,\n",
       "  291.73,\n",
       "  303.15,\n",
       "  296.71,\n",
       "  303.41,\n",
       "  293.71,\n",
       "  283.15],\n",
       " 'humidities': [73, 74, 93, 79, 68, 66, 74, 46, 63, 31, 58, 88, 61, 69, 76],\n",
       " 'clouds': [100, 75, 75, 0, 90, 1, 0, 0, 75, 83, 0, 20, 87, 46, 1],\n",
       " 'winds': [3.1,\n",
       "  2.57,\n",
       "  4.63,\n",
       "  4.63,\n",
       "  2.57,\n",
       "  2.62,\n",
       "  1.03,\n",
       "  7.2,\n",
       "  4.63,\n",
       "  0.93,\n",
       "  4.12,\n",
       "  3.23,\n",
       "  1.6,\n",
       "  1.79,\n",
       "  2.06]}"
      ]
     },
     "execution_count": 6,
     "metadata": {},
     "output_type": "execute_result"
    }
   ],
   "source": [
    "# api call template: api.openweathermap.org/data/2.5/weather?q={city name}&appid={API key}\n",
    "#sample call for city yellowknife\n",
    "\n",
    "#.append not adding\n",
    "#no .append results in single float point\n",
    "\n",
    "city_df = []\n",
    "\n",
    "        \n",
    "\n",
    "city_df = {\n",
    "    'country' : country,\n",
    "           'cityn' : cityn,\n",
    "    'lats' : lats,\n",
    "    'lngs' : lngs,\n",
    "    \"temps\" : temps,\n",
    "    'max_temps' : max_temps,\n",
    "    'humidities' : humidities,\n",
    "    'clouds' : clouds,\n",
    "    'winds' : winds\n",
    "               \n",
    "} \n",
    "city_df\n",
    "\n",
    "\n",
    "\n"
   ]
  },
  {
   "cell_type": "markdown",
   "metadata": {},
   "source": [
    "## Inspect the data and remove the cities where the humidity > 100%.\n",
    "----\n",
    "Skip this step if there are no cities that have humidity > 100%. "
   ]
  },
  {
   "cell_type": "code",
   "execution_count": null,
   "metadata": {},
   "outputs": [],
   "source": []
  },
  {
   "cell_type": "code",
   "execution_count": 7,
   "metadata": {},
   "outputs": [],
   "source": [
    "#convet to df\n",
    "cities_df = pd.DataFrame(city_df)"
   ]
  },
  {
   "cell_type": "code",
   "execution_count": 8,
   "metadata": {},
   "outputs": [],
   "source": [
    "#  Get the indices of cities that have humidity over 100%.\n"
   ]
  },
  {
   "cell_type": "code",
   "execution_count": 9,
   "metadata": {},
   "outputs": [],
   "source": [
    "# Make a new DataFrame equal to the city data to drop all humidity outliers by index.\n",
    "# Passing \"inplace=False\" will make a copy of the city_data DataFrame, which we call \"clean_city_data\".\n"
   ]
  },
  {
   "cell_type": "code",
   "execution_count": 10,
   "metadata": {},
   "outputs": [],
   "source": [
    "\n",
    "\n",
    "#export to csv \n",
    "cities_df.to_csv(\"../output_data/cities.csv\")\n"
   ]
  },
  {
   "cell_type": "markdown",
   "metadata": {},
   "source": [
    "## Plotting the Data\n",
    "* Use proper labeling of the plots using plot titles (including date of analysis) and axes labels.\n",
    "* Save the plotted figures as .pngs."
   ]
  },
  {
   "cell_type": "markdown",
   "metadata": {},
   "source": [
    "## Latitude vs. Temperature Plot"
   ]
  },
  {
   "cell_type": "code",
   "execution_count": 11,
   "metadata": {
    "scrolled": true
   },
   "outputs": [
    {
     "data": {
      "text/plain": [
       "<matplotlib.axes._subplots.AxesSubplot at 0x2114eac1470>"
      ]
     },
     "execution_count": 11,
     "metadata": {},
     "output_type": "execute_result"
    },
    {
     "data": {
      "image/png": "[encoded data removed]",
      "text/plain": [
       "<Figure size 432x288 with 1 Axes>"
      ]
     },
     "metadata": {
      "needs_background": "light"
     },
     "output_type": "display_data"
    }
   ],
   "source": [
    "#cities_df[\"latn\"] = np.where(cities_df.lats > 0, cities_df.lats, 0)\n",
    "#cities_df[\"latso\"] = np.where(cities_df.lats < 0, - cities_df.lats, 0) \n",
    "\n",
    "\n",
    "cities_df.plot.scatter(x='lats', y='temps' )\n",
    "plt.savefig('Lat vs Temp.png')\n"
   ]
  },
  {
   "cell_type": "markdown",
   "metadata": {},
   "source": [
    "## Latitude vs. Humidity Plot"
   ]
  },
  {
   "cell_type": "code",
   "execution_count": 13,
   "metadata": {},
   "outputs": [
    {
     "data": {
      "image/png": "[encoded data removed]",
      "text/plain": [
       "<Figure size 432x288 with 1 Axes>"
      ]
     },
     "metadata": {
      "needs_background": "light"
     },
     "output_type": "display_data"
    }
   ],
   "source": [
    "cities_df.plot.scatter(x='lats', y='humidities' )\n",
    "#AxesSubplot:xlabel='Latitude', ylabel='Humidity'\n",
    "plt.savefig('Lat vs Humidity.png')    "
   ]
  },
  {
   "cell_type": "markdown",
   "metadata": {},
   "source": [
    "## Latitude vs. Cloudiness Plot"
   ]
  },
  {
   "cell_type": "code",
   "execution_count": 14,
   "metadata": {},
   "outputs": [
    {
     "data": {
      "image/png": "[encoded data removed]",
      "text/plain": [
       "<Figure size 432x288 with 1 Axes>"
      ]
     },
     "metadata": {
      "needs_background": "light"
     },
     "output_type": "display_data"
    }
   ],
   "source": [
    "cities_df.plot.scatter(x='lats', y='clouds' )\n",
    "#AxesSubplot:xlabel='Latitude', ylabel='Cloudiness'\n",
    "plt.savefig('Lat vs Cloudiness.png')"
   ]
  },
  {
   "cell_type": "markdown",
   "metadata": {},
   "source": [
    "## Latitude vs. Wind Speed Plot"
   ]
  },
  {
   "cell_type": "code",
   "execution_count": 15,
   "metadata": {},
   "outputs": [
    {
     "data": {
      "image/png": "[encoded data removed]",
      "text/plain": [
       "<Figure size 432x288 with 1 Axes>"
      ]
     },
     "metadata": {
      "needs_background": "light"
     },
     "output_type": "display_data"
    }
   ],
   "source": [
    "cities_df.plot.scatter(x='lats', y='winds' )\n",
    "#AxesSubplot:xlabel='Latitude', ylabel='Wind Speed'\n",
    "plt.savefig('Lat vs Wind Speed.png')"
   ]
  },
  {
   "cell_type": "markdown",
   "metadata": {},
   "source": [
    "## Linear Regression"
   ]
  },
  {
   "cell_type": "code",
   "execution_count": null,
   "metadata": {},
   "outputs": [],
   "source": [
    "#split northern and southern lats\n",
    "#north lat = latn\n",
    "#south lat = latso\n",
    "\n",
    "\n",
    "\n"
   ]
  },
  {
   "cell_type": "markdown",
   "metadata": {},
   "source": [
    "####  Northern Hemisphere - Max Temp vs. Latitude Linear Regression"
   ]
  },
  {
   "cell_type": "code",
   "execution_count": 16,
   "metadata": {},
   "outputs": [
    {
     "name": "stdout",
     "output_type": "stream",
     "text": [
      "the correlation coefficient is -0.8202151922543476\n"
     ]
    },
    {
     "data": {
      "image/png": "[encoded data removed]",
      "text/plain": [
       "<Figure size 432x288 with 1 Axes>"
      ]
     },
     "metadata": {
      "needs_background": "light"
     },
     "output_type": "display_data"
    }
   ],
   "source": [
    "x_value = cities_df['max_temps']\n",
    "y_value = cities_df['lats'] \n",
    "                       \n",
    "(slope, intercept, rvalue, pvalue, std)= linregress(x_value, y_value)\n",
    "regress_value =  x_value * slope + intercept   \n",
    "line_eq = \"y= \" + str(slope) + \"x \" + str(intercept)\n",
    "plt.scatter(x_value, y_value)\n",
    "plt.xlabel(\"Max Temp\")\n",
    "plt.ylabel(\"Latitude\")\n",
    "plt.plot(x_value, regress_value)\n",
    "print(\"the correlation coefficient is \" + str(rvalue))\n",
    "#print(\"the r squared value is \" + str(rvalue**2))\n",
    "plt.show()"
   ]
  },
  {
   "cell_type": "markdown",
   "metadata": {},
   "source": [
    "####  Southern Hemisphere - Max Temp vs. Latitude Linear Regression"
   ]
  },
  {
   "cell_type": "code",
   "execution_count": 17,
   "metadata": {},
   "outputs": [
    {
     "name": "stdout",
     "output_type": "stream",
     "text": [
      "the correlation coefficient is -0.8202151922543476\n"
     ]
    },
    {
     "data": {
      "image/png": "[encoded data removed]",
      "text/plain": [
       "<Figure size 432x288 with 1 Axes>"
      ]
     },
     "metadata": {
      "needs_background": "light"
     },
     "output_type": "display_data"
    }
   ],
   "source": [
    "x_value = cities_df['max_temps']\n",
    "y_value = cities_df['lats'] \n",
    "                       \n",
    "(slope, intercept, rvalue, pvalue, std)= linregress(x_value, y_value)\n",
    "regress_value =  x_value * slope + intercept   \n",
    "line_eq = \"y= \" + str(slope) + \"x \" + str(intercept)\n",
    "plt.scatter(x_value, y_value)\n",
    "plt.xlabel(\"Max Temp\")\n",
    "plt.ylabel(\"Latitude\")\n",
    "plt.plot(x_value, regress_value)\n",
    "print(\"the correlation coefficient is \" + str(rvalue))\n",
    "#print(\"the r squared value is \" + str(rvalue**2))\n",
    "plt.show()"
   ]
  },
  {
   "cell_type": "markdown",
   "metadata": {},
   "source": [
    "####  Northern Hemisphere - Humidity (%) vs. Latitude Linear Regression"
   ]
  },
  {
   "cell_type": "code",
   "execution_count": 18,
   "metadata": {},
   "outputs": [
    {
     "name": "stdout",
     "output_type": "stream",
     "text": [
      "the correlation coefficient is 0.1476960448944462\n"
     ]
    },
    {
     "data": {
      "image/png": "[encoded data removed]",
      "text/plain": [
       "<Figure size 432x288 with 1 Axes>"
      ]
     },
     "metadata": {
      "needs_background": "light"
     },
     "output_type": "display_data"
    }
   ],
   "source": [
    "x_value = cities_df['humidities']\n",
    "y_value = cities_df['lats'] \n",
    "                       \n",
    "(slope, intercept, rvalue, pvalue, std)= linregress(x_value, y_value)\n",
    "regress_value =  x_value * slope + intercept   \n",
    "line_eq = \"y= \" + str(slope) + \"x \" + str(intercept)\n",
    "plt.scatter(x_value, y_value)\n",
    "plt.xlabel(\"Humidity\")\n",
    "plt.ylabel(\"Latitude\")\n",
    "plt.plot(x_value, regress_value)\n",
    "print(\"the correlation coefficient is \" + str(rvalue))\n",
    "#print(\"the r squared value is \" + str(rvalue**2))\n",
    "plt.show()"
   ]
  },
  {
   "cell_type": "markdown",
   "metadata": {},
   "source": [
    "####  Southern Hemisphere - Humidity (%) vs. Latitude Linear Regression"
   ]
  },
  {
   "cell_type": "code",
   "execution_count": 19,
   "metadata": {},
   "outputs": [
    {
     "name": "stdout",
     "output_type": "stream",
     "text": [
      "the correlation coefficient is 0.1476960448944462\n"
     ]
    },
    {
     "data": {
      "image/png": "[encoded data removed]",
      "text/plain": [
       "<Figure size 432x288 with 1 Axes>"
      ]
     },
     "metadata": {
      "needs_background": "light"
     },
     "output_type": "display_data"
    }
   ],
   "source": [
    "x_value = cities_df['humidities']\n",
    "y_value = cities_df['lats'] \n",
    "                       \n",
    "(slope, intercept, rvalue, pvalue, std)= linregress(x_value, y_value)\n",
    "regress_value =  x_value * slope + intercept   \n",
    "line_eq = \"y= \" + str(slope) + \"x \" + str(intercept)\n",
    "plt.scatter(x_value, y_value)\n",
    "plt.xlabel(\"Humidity\")\n",
    "plt.ylabel(\"Latitude\")\n",
    "plt.plot(x_value, regress_value)\n",
    "print(\"the correlation coefficient is \" + str(rvalue))\n",
    "#print(\"the r squared value is \" + str(rvalue**2))\n",
    "plt.show()"
   ]
  },
  {
   "cell_type": "markdown",
   "metadata": {},
   "source": [
    "####  Northern Hemisphere - Cloudiness (%) vs. Latitude Linear Regression"
   ]
  },
  {
   "cell_type": "code",
   "execution_count": 20,
   "metadata": {},
   "outputs": [
    {
     "name": "stdout",
     "output_type": "stream",
     "text": [
      "the correlation coefficient is 0.14960914643733955\n"
     ]
    },
    {
     "data": {
      "image/png": "[encoded data removed]",
      "text/plain": [
       "<Figure size 432x288 with 1 Axes>"
      ]
     },
     "metadata": {
      "needs_background": "light"
     },
     "output_type": "display_data"
    }
   ],
   "source": [
    "x_value = cities_df['clouds']\n",
    "y_value = cities_df['lats'] \n",
    "                       \n",
    "(slope, intercept, rvalue, pvalue, std)= linregress(x_value, y_value)\n",
    "regress_value =  x_value * slope + intercept   \n",
    "line_eq = \"y= \" + str(slope) + \"x \" + str(intercept)\n",
    "plt.scatter(x_value, y_value)\n",
    "plt.xlabel(\"Cloudiness\")\n",
    "plt.ylabel(\"Latitude\")\n",
    "plt.plot(x_value, regress_value)\n",
    "print(\"the correlation coefficient is \" + str(rvalue))\n",
    "#print(\"the r squared value is \" + str(rvalue**2))\n",
    "plt.show()"
   ]
  },
  {
   "cell_type": "markdown",
   "metadata": {},
   "source": [
    "####  Southern Hemisphere - Cloudiness (%) vs. Latitude Linear Regression"
   ]
  },
  {
   "cell_type": "code",
   "execution_count": 21,
   "metadata": {},
   "outputs": [
    {
     "name": "stdout",
     "output_type": "stream",
     "text": [
      "the correlation coefficient is 0.14960914643733955\n"
     ]
    },
    {
     "data": {
      "image/png": "[encoded data removed]",
      "text/plain": [
       "<Figure size 432x288 with 1 Axes>"
      ]
     },
     "metadata": {
      "needs_background": "light"
     },
     "output_type": "display_data"
    }
   ],
   "source": [
    "x_value = cities_df['clouds']\n",
    "y_value = cities_df['lats'] \n",
    "                       \n",
    "(slope, intercept, rvalue, pvalue, std)= linregress(x_value, y_value)\n",
    "regress_value =  x_value * slope + intercept   \n",
    "line_eq = \"y= \" + str(slope) + \"x \" + str(intercept)\n",
    "plt.scatter(x_value, y_value)\n",
    "plt.xlabel(\"Cloudiness\")\n",
    "plt.ylabel(\"Latitude\")\n",
    "plt.plot(x_value, regress_value)\n",
    "print(\"the correlation coefficient is \" + str(rvalue))\n",
    "#print(\"the r squared value is \" + str(rvalue**2))\n",
    "plt.show()"
   ]
  },
  {
   "cell_type": "markdown",
   "metadata": {},
   "source": [
    "####  Northern Hemisphere - Wind Speed (mph) vs. Latitude Linear Regression"
   ]
  },
  {
   "cell_type": "code",
   "execution_count": 22,
   "metadata": {},
   "outputs": [
    {
     "name": "stdout",
     "output_type": "stream",
     "text": [
      "the correlation coefficient is 0.34966148036162664\n"
     ]
    },
    {
     "data": {
      "image/png": "[encoded data removed]",
      "text/plain": [
       "<Figure size 432x288 with 1 Axes>"
      ]
     },
     "metadata": {
      "needs_background": "light"
     },
     "output_type": "display_data"
    }
   ],
   "source": [
    "x_value = cities_df['winds']\n",
    "y_value = cities_df['lats'] \n",
    "                       \n",
    "(slope, intercept, rvalue, pvalue, std)= linregress(x_value, y_value)\n",
    "regress_value =  x_value * slope + intercept   \n",
    "line_eq = \"y= \" + str(slope) + \"x \" + str(intercept)\n",
    "plt.scatter(x_value, y_value)\n",
    "plt.xlabel(\"Wind Speed\")\n",
    "plt.ylabel(\"Latitude\")\n",
    "plt.plot(x_value, regress_value)\n",
    "print(\"the correlation coefficient is \" + str(rvalue))\n",
    "#print(\"the r squared value is \" + str(rvalue**2))\n",
    "plt.show()"
   ]
  },
  {
   "cell_type": "markdown",
   "metadata": {},
   "source": [
    "####  Southern Hemisphere - Wind Speed (mph) vs. Latitude Linear Regression"
   ]
  },
  {
   "cell_type": "code",
   "execution_count": 23,
   "metadata": {},
   "outputs": [
    {
     "name": "stdout",
     "output_type": "stream",
     "text": [
      "the correlation coefficient is 0.34966148036162664\n"
     ]
    },
    {
     "data": {
      "image/png": "[encoded data removed]",
      "text/plain": [
       "<Figure size 432x288 with 1 Axes>"
      ]
     },
     "metadata": {
      "needs_background": "light"
     },
     "output_type": "display_data"
    }
   ],
   "source": [
    "x_value = cities_df['winds']\n",
    "y_value = cities_df['lats'] \n",
    "                       \n",
    "(slope, intercept, rvalue, pvalue, std)= linregress(x_value, y_value)\n",
    "regress_value =  x_value * slope + intercept   \n",
    "line_eq = \"y= \" + str(slope) + \"x \" + str(intercept)\n",
    "plt.scatter(x_value, y_value)\n",
    "plt.xlabel(\"Wind Speed\")\n",
    "plt.ylabel(\"Latitude\")\n",
    "plt.plot(x_value, regress_value)\n",
    "print(\"the correlation coefficient is \" + str(rvalue))\n",
    "#print(\"the r squared value is \" + str(rvalue**2))\n",
    "plt.show()"
   ]
  },
  {
   "cell_type": "code",
   "execution_count": null,
   "metadata": {},
   "outputs": [],
   "source": []
  }
 ],
 "metadata": {
  "anaconda-cloud": {},
  "kernel_info": {
   "name": "python3"
  },
  "kernelspec": {
   "display_name": "Python [conda env:PythonData]",
   "language": "python",
   "name": "conda-env-PythonData-py"
  },
  "language_info": {
   "codemirror_mode": {
    "name": "ipython",
    "version": 3
   },
   "file_extension": ".py",
   "mimetype": "text/x-python",
   "name": "python",
   "nbconvert_exporter": "python",
   "pygments_lexer": "ipython3",
   "version": "3.6.10"
  },
  "latex_envs": {
   "LaTeX_envs_menu_present": true,
   "autoclose": false,
   "autocomplete": true,
   "bibliofile": "biblio.bib",
   "cite_by": "apalike",
   "current_citInitial": 1,
   "eqLabelWithNumbers": true,
   "eqNumInitial": 1,
   "hotkeys": {
    "equation": "Ctrl-E",
    "itemize": "Ctrl-I"
   },
   "labels_anchors": false,
   "latex_user_defs": false,
   "report_style_numbering": false,
   "user_envs_cfg": false
  },
  "nteract": {
   "version": "0.12.3"
  }
 },
 "nbformat": 4,
 "nbformat_minor": 2
}
