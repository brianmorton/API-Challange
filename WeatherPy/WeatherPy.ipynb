{
 "cells": [
  {
   "cell_type": "markdown",
   "metadata": {},
   "source": [
    "# WeatherPy\n",
    "----\n",
    "\n",
    "#### Note\n",
    "* Instructions have been included for each segment. You do not have to follow them exactly, but they are included to help you think through the steps."
   ]
  },
  {
   "cell_type": "code",
   "execution_count": 20,
   "metadata": {
    "scrolled": true
   },
   "outputs": [],
   "source": [
    "# Dependencies and Setup\n",
    "import matplotlib.pyplot as plt\n",
    "import pandas as pd\n",
    "import numpy as np\n",
    "import requests\n",
    "import time\n",
    "from scipy.stats import linregress\n",
    "import json\n",
    "\n",
    "# Import API key\n",
    "from api_keys import weather_api_key\n",
    "\n",
    "# Incorporated citipy to determine city based on latitude and longitude\n",
    "from citipy import citipy\n",
    "\n",
    "# Output File (CSV)\n",
    "output_data_file = \"output_data/cities.csv\"\n",
    "\n",
    "# Range of latitudes and longitudes\n",
    "lat_range = (-90, 90)\n",
    "lng_range = (-180, 180)\n",
    "\n",
    "url = \"http://api.openweathermap.org/data/2.5/weather?q=\"\n",
    "appid = \"&appid=\"\n",
    "city_df = []"
   ]
  },
  {
   "cell_type": "markdown",
   "metadata": {},
   "source": [
    "## Generate Cities List"
   ]
  },
  {
   "cell_type": "code",
   "execution_count": 21,
   "metadata": {},
   "outputs": [
    {
     "data": {
      "text/plain": [
       "610"
      ]
     },
     "execution_count": 21,
     "metadata": {},
     "output_type": "execute_result"
    }
   ],
   "source": [
    "# List for holding lat_lngs and cities\n",
    "lat_lngs = []\n",
    "cities = []\n",
    "\n",
    "# Create a set of random lat and lng combinations\n",
    "lats = np.random.uniform(lat_range[0], lat_range[1], size=1500)\n",
    "lngs = np.random.uniform(lng_range[0], lng_range[1], size=1500)\n",
    "lat_lngs = zip(lats, lngs)\n",
    "\n",
    "# Identify nearest city for each lat, lng combination\n",
    "for lat_lng in lat_lngs:\n",
    "    city = citipy.nearest_city(lat_lng[0], lat_lng[1]).city_name\n",
    "    \n",
    "    # If the city is unique, then add it to a our cities list\n",
    "    if city not in cities:\n",
    "        cities.append(city)\n",
    "\n",
    "# Print the city count to confirm sufficient count\n",
    "len(cities)"
   ]
  },
  {
   "cell_type": "markdown",
   "metadata": {},
   "source": [
    "### Perform API Calls\n",
    "* Perform a weather check on each city using a series of successive API calls.\n",
    "* Include a print log of each city as it'sbeing processed (with the city number and city name).\n"
   ]
  },
  {
   "cell_type": "code",
   "execution_count": 22,
   "metadata": {},
   "outputs": [
    {
     "name": "stdout",
     "output_type": "stream",
     "text": [
      "city name is Mahébourg and the position is: 1\n",
      "city name is Punta Arenas and the position is: 2\n"
     ]
    }
   ],
   "source": [
    "# loop thru (cities) and print each name/id\n",
    "counter = 1\n",
    "\n",
    "country= []\n",
    "cityn = []\n",
    "lats = []\n",
    "lngs = []\n",
    "temps = []\n",
    "max_temps = []\n",
    "humidities = []\n",
    "clouds = []\n",
    "winds = []\n",
    "\n",
    "for cityname in cities:\n",
    "    if counter < 500:\n",
    "        try:\n",
    "            query_url = url + cityname + appid + weather_api_key\n",
    "            city_request = requests.get(query_url).json()\n",
    "            city_name = city_request['name']\n",
    "            city_lat = city_request['coord']['lat']\n",
    "            city_long = city_request['coord']['lon']\n",
    "            city_temp = city_request['main']['temp']\n",
    "            city_max = city_request['main']['temp_max']\n",
    "            city_hum = city_request['main']['humidity']\n",
    "            city_cloud = city_request['clouds']['all']\n",
    "            city_wind = city_request['wind']['speed']\n",
    "            # get country info\n",
    "            country_info = city_request['sys']['country']\n",
    "            # append city name\n",
    "            cityn.append(city_name)\n",
    "            # append country info\n",
    "            country.append(country_info)\n",
    "            lats.append(city_lat)\n",
    "            lngs.append(city_long)\n",
    "            temps.append(city_temp)\n",
    "            max_temps.append(city_max)\n",
    "            humidities.append(city_hum)\n",
    "            clouds.append(city_cloud)\n",
    "            winds.append(city_wind)\n",
    "            print(\"city name is \" + str(city_name) + \" and the position is: \" + str(counter))\n",
    "            counter = counter + 1\n",
    "        except:\n",
    "            break"
   ]
  },
  {
   "cell_type": "code",
   "execution_count": 23,
   "metadata": {},
   "outputs": [
    {
     "data": {
      "text/plain": [
       "[-20.4081, -53.15]"
      ]
     },
     "execution_count": 23,
     "metadata": {},
     "output_type": "execute_result"
    }
   ],
   "source": [
    "lats"
   ]
  },
  {
   "cell_type": "markdown",
   "metadata": {},
   "source": [
    "### Convert Raw Data to DataFrame\n",
    "* Export the city data into a .csv.\n",
    "* Display the DataFrame"
   ]
  },
  {
   "cell_type": "code",
   "execution_count": 5,
   "metadata": {
    "scrolled": true
   },
   "outputs": [],
   "source": [
    "# api call template: api.openweathermap.org/data/2.5/weather?q={city name}&appid={API key}\n",
    "#sample call for city yellowknife\n",
    "\n",
    "\n",
    "\n",
    "city_df = []\n",
    "\n",
    "        \n",
    "\n",
    "city_df = {\n",
    "    'country' : country,\n",
    "           'cityn' : cityn,\n",
    "    'lats' : lats,\n",
    "    'lngs' : lngs,\n",
    "    \"temps\" : temps,\n",
    "    'max_temps' : max_temps,\n",
    "    'humidities' : humidities,\n",
    "    'clouds' : clouds,\n",
    "    'winds' : winds\n",
    "               \n",
    "} \n",
    "\n",
    "\n",
    "\n",
    "\n"
   ]
  },
  {
   "cell_type": "markdown",
   "metadata": {},
   "source": [
    "## Inspect the data and remove the cities where the humidity > 100%.\n",
    "----\n",
    "Skip this step if there are no cities that have humidity > 100%. "
   ]
  },
  {
   "cell_type": "code",
   "execution_count": null,
   "metadata": {},
   "outputs": [],
   "source": []
  },
  {
   "cell_type": "code",
   "execution_count": 6,
   "metadata": {},
   "outputs": [],
   "source": [
    "#convet to df\n",
    "cities_df = pd.DataFrame(city_df)"
   ]
  },
  {
   "cell_type": "code",
   "execution_count": 7,
   "metadata": {},
   "outputs": [],
   "source": [
    "#  Get the indices of cities that have humidity over 100%.\n"
   ]
  },
  {
   "cell_type": "code",
   "execution_count": 8,
   "metadata": {},
   "outputs": [],
   "source": [
    "# Make a new DataFrame equal to the city data to drop all humidity outliers by index.\n",
    "# Passing \"inplace=False\" will make a copy of the city_data DataFrame, which we call \"clean_city_data\".\n"
   ]
  },
  {
   "cell_type": "code",
   "execution_count": 9,
   "metadata": {},
   "outputs": [],
   "source": [
    "\n",
    "\n",
    "#export to csv \n",
    "cities_df.to_csv(\"../output_data/cities.csv\")\n"
   ]
  },
  {
   "cell_type": "markdown",
   "metadata": {},
   "source": [
    "## Plotting the Data\n",
    "* Use proper labeling of the plots using plot titles (including date of analysis) and axes labels.\n",
    "* Save the plotted figures as .pngs."
   ]
  },
  {
   "cell_type": "markdown",
   "metadata": {},
   "source": [
    "## Latitude vs. Temperature Plot"
   ]
  },
  {
   "cell_type": "code",
   "execution_count": 15,
   "metadata": {
    "scrolled": true
   },
   "outputs": [
    {
     "name": "stdout",
     "output_type": "stream",
     "text": [
      "Analysis\n"
     ]
    },
    {
     "data": {
      "image/png": "[encoded data removed]",
      "text/plain": [
       "<Figure size 432x288 with 1 Axes>"
      ]
     },
     "metadata": {
      "needs_background": "light"
     },
     "output_type": "display_data"
    }
   ],
   "source": [
    "#cities_df[\"latn\"] = np.where(cities_df.lats > 0, cities_df.lats, 0)\n",
    "#cities_df[\"latso\"] = np.where(cities_df.lats < 0, - cities_df.lats, 0) \n",
    "\n",
    "\n",
    "cities_df.plot.scatter(x='lats', y='temps' )\n",
    "plt.savefig('Lat vs Temp.png')\n",
    "print ('Analysis: there is a strong relationship between temp increasing and closer to equator ')"
   ]
  },
  {
   "cell_type": "markdown",
   "metadata": {},
   "source": [
    "## Latitude vs. Humidity Plot"
   ]
  },
  {
   "cell_type": "code",
   "execution_count": 11,
   "metadata": {},
   "outputs": [
    {
     "data": {
      "image/png": "[encoded data removed]",
      "text/plain": [
       "<Figure size 432x288 with 1 Axes>"
      ]
     },
     "metadata": {
      "needs_background": "light"
     },
     "output_type": "display_data"
    }
   ],
   "source": [
    "cities_df.plot.scatter(x='lats', y='humidities' )\n",
    "#AxesSubplot:xlabel='Latitude', ylabel='Humidity'\n",
    "plt.savefig('Lat vs Humidity.png')\n",
    "print ('Analysis: there is a relationship between humitiy and latitude closer to equator')"
   ]
  },
  {
   "cell_type": "markdown",
   "metadata": {},
   "source": [
    "## Latitude vs. Cloudiness Plot"
   ]
  },
  {
   "cell_type": "code",
   "execution_count": 12,
   "metadata": {},
   "outputs": [
    {
     "data": {
      "image/png": "[encoded data removed]",
      "text/plain": [
       "<Figure size 432x288 with 1 Axes>"
      ]
     },
     "metadata": {
      "needs_background": "light"
     },
     "output_type": "display_data"
    }
   ],
   "source": [
    "cities_df.plot.scatter(x='lats', y='clouds' )\n",
    "#AxesSubplot:xlabel='Latitude', ylabel='Cloudiness'\n",
    "plt.savefig('Lat vs Cloudiness.png')\n",
    "print ('Analysis:There is not much of a relationship between latitude and Cloudiness ')"
   ]
  },
  {
   "cell_type": "markdown",
   "metadata": {},
   "source": [
    "## Latitude vs. Wind Speed Plot"
   ]
  },
  {
   "cell_type": "code",
   "execution_count": 13,
   "metadata": {},
   "outputs": [
    {
     "data": {
      "image/png": "[encoded data removed]",
      "text/plain": [
       "<Figure size 432x288 with 1 Axes>"
      ]
     },
     "metadata": {
      "needs_background": "light"
     },
     "output_type": "display_data"
    }
   ],
   "source": [
    "cities_df.plot.scatter(x='lats', y='winds' )\n",
    "#AxesSubplot:xlabel='Latitude', ylabel='Wind Speed'\n",
    "plt.savefig('Lat vs Wind Speed.png')\n",
    "print ('Analysis: There is not much of a relationship between latitude and wind speed')"
   ]
  },
  {
   "cell_type": "markdown",
   "metadata": {},
   "source": [
    "## Linear Regression"
   ]
  },
  {
   "cell_type": "code",
   "execution_count": 15,
   "metadata": {},
   "outputs": [
    {
     "data": {
      "text/html": [
       "<div>\n",
       "<style scoped>\n",
       "    .dataframe tbody tr th:only-of-type {\n",
       "        vertical-align: middle;\n",
       "    }\n",
       "\n",
       "    .dataframe tbody tr th {\n",
       "        vertical-align: top;\n",
       "    }\n",
       "\n",
       "    .dataframe thead th {\n",
       "        text-align: right;\n",
       "    }\n",
       "</style>\n",
       "<table border=\"1\" class=\"dataframe\">\n",
       "  <thead>\n",
       "    <tr style=\"text-align: right;\">\n",
       "      <th></th>\n",
       "      <th>country</th>\n",
       "      <th>cityn</th>\n",
       "      <th>lats</th>\n",
       "      <th>lngs</th>\n",
       "      <th>temps</th>\n",
       "      <th>max_temps</th>\n",
       "      <th>humidities</th>\n",
       "      <th>clouds</th>\n",
       "      <th>winds</th>\n",
       "    </tr>\n",
       "  </thead>\n",
       "  <tbody>\n",
       "    <tr>\n",
       "      <th>1</th>\n",
       "      <td>JP</td>\n",
       "      <td>Shingū</td>\n",
       "      <td>33.7333</td>\n",
       "      <td>135.9833</td>\n",
       "      <td>277.79</td>\n",
       "      <td>277.79</td>\n",
       "      <td>71</td>\n",
       "      <td>58</td>\n",
       "      <td>5.38</td>\n",
       "    </tr>\n",
       "    <tr>\n",
       "      <th>2</th>\n",
       "      <td>US</td>\n",
       "      <td>Kapaa</td>\n",
       "      <td>22.0752</td>\n",
       "      <td>-159.3190</td>\n",
       "      <td>297.92</td>\n",
       "      <td>299.26</td>\n",
       "      <td>88</td>\n",
       "      <td>75</td>\n",
       "      <td>5.66</td>\n",
       "    </tr>\n",
       "    <tr>\n",
       "      <th>8</th>\n",
       "      <td>RU</td>\n",
       "      <td>Lovozero</td>\n",
       "      <td>68.0050</td>\n",
       "      <td>35.0117</td>\n",
       "      <td>252.04</td>\n",
       "      <td>252.04</td>\n",
       "      <td>87</td>\n",
       "      <td>0</td>\n",
       "      <td>1.29</td>\n",
       "    </tr>\n",
       "  </tbody>\n",
       "</table>\n",
       "</div>"
      ],
      "text/plain": [
       "  country     cityn     lats      lngs   temps  max_temps  humidities  clouds  \\\n",
       "1      JP    Shingū  33.7333  135.9833  277.79     277.79          71      58   \n",
       "2      US     Kapaa  22.0752 -159.3190  297.92     299.26          88      75   \n",
       "8      RU  Lovozero  68.0050   35.0117  252.04     252.04          87       0   \n",
       "\n",
       "   winds  \n",
       "1   5.38  \n",
       "2   5.66  \n",
       "8   1.29  "
      ]
     },
     "execution_count": 15,
     "metadata": {},
     "output_type": "execute_result"
    }
   ],
   "source": [
    "#split northern and southern lats\n",
    "\n",
    "north_df = cities_df\n",
    "south_df = cities_df\n",
    "\n",
    "north_df = north_df[north_df.lats > 0]\n",
    "south_df = north_df[north_df.lats > 0]\n",
    "\n",
    "\n"
   ]
  },
  {
   "cell_type": "markdown",
   "metadata": {},
   "source": [
    "####  Northern Hemisphere - Max Temp vs. Latitude Linear Regression"
   ]
  },
  {
   "cell_type": "code",
   "execution_count": 16,
   "metadata": {},
   "outputs": [
    {
     "name": "stdout",
     "output_type": "stream",
     "text": [
      "the correlation coefficient is -0.9748675034248176\n"
     ]
    },
    {
     "data": {
      "image/png": "[encoded data removed]",
      "text/plain": [
       "<Figure size 432x288 with 1 Axes>"
      ]
     },
     "metadata": {
      "needs_background": "light"
     },
     "output_type": "display_data"
    }
   ],
   "source": [
    "x_value = north_df['max_temps']\n",
    "y_value = north_df['lats'] \n",
    "                       \n",
    "(slope, intercept, rvalue, pvalue, std)= linregress(x_value, y_value)\n",
    "regress_value =  x_value * slope + intercept   \n",
    "line_eq = \"y= \" + str(slope) + \"x \" + str(intercept)\n",
    "plt.scatter(x_value, y_value)\n",
    "plt.xlabel(\"Max Temp\")\n",
    "plt.ylabel(\"Latitude\")\n",
    "plt.plot(x_value, regress_value)\n",
    "print(\"the correlation coefficient is \" + str(rvalue))\n",
    "#print(\"the r squared value is \" + str(rvalue**2))\n",
    "plt.show()\n",
    "print ('Analysis: there is an a negative correlation between latitude and temp')"
   ]
  },
  {
   "cell_type": "markdown",
   "metadata": {},
   "source": [
    "####  Southern Hemisphere - Max Temp vs. Latitude Linear Regression"
   ]
  },
  {
   "cell_type": "code",
   "execution_count": 17,
   "metadata": {},
   "outputs": [
    {
     "name": "stdout",
     "output_type": "stream",
     "text": [
      "the correlation coefficient is -0.8202151922543476\n"
     ]
    },
    {
     "data": {
      "image/png": "[encoded data removed]",
      "text/plain": [
       "<Figure size 432x288 with 1 Axes>"
      ]
     },
     "metadata": {
      "needs_background": "light"
     },
     "output_type": "display_data"
    }
   ],
   "source": [
    "x_value = south_df['max_temps']\n",
    "y_value = south_df['lats'] \n",
    "                       \n",
    "(slope, intercept, rvalue, pvalue, std)= linregress(x_value, y_value)\n",
    "regress_value =  x_value * slope + intercept   \n",
    "line_eq = \"y= \" + str(slope) + \"x \" + str(intercept)\n",
    "plt.scatter(x_value, y_value)\n",
    "plt.xlabel(\"Max Temp\")\n",
    "plt.ylabel(\"Latitude\")\n",
    "plt.plot(x_value, regress_value)\n",
    "print(\"the correlation coefficient is \" + str(rvalue))\n",
    "#print(\"the r squared value is \" + str(rvalue**2))\n",
    "plt.show()\n",
    "print ('Analysis: there is an a negative correlation between latitude and temp')"
   ]
  },
  {
   "cell_type": "markdown",
   "metadata": {},
   "source": [
    "####  Northern Hemisphere - Humidity (%) vs. Latitude Linear Regression"
   ]
  },
  {
   "cell_type": "code",
   "execution_count": 18,
   "metadata": {},
   "outputs": [
    {
     "name": "stdout",
     "output_type": "stream",
     "text": [
      "the correlation coefficient is 0.1476960448944462\n"
     ]
    },
    {
     "data": {
      "image/png": "[encoded data removed]",
      "text/plain": [
       "<Figure size 432x288 with 1 Axes>"
      ]
     },
     "metadata": {
      "needs_background": "light"
     },
     "output_type": "display_data"
    }
   ],
   "source": [
    "x_value = north_df['humidities']\n",
    "y_value = north_df['lats'] \n",
    "                       \n",
    "(slope, intercept, rvalue, pvalue, std)= linregress(x_value, y_value)\n",
    "regress_value =  x_value * slope + intercept   \n",
    "line_eq = \"y= \" + str(slope) + \"x \" + str(intercept)\n",
    "plt.scatter(x_value, y_value)\n",
    "plt.xlabel(\"Humidity\")\n",
    "plt.ylabel(\"Latitude\")\n",
    "plt.plot(x_value, regress_value)\n",
    "print(\"the correlation coefficient is \" + str(rvalue))\n",
    "#print(\"the r squared value is \" + str(rvalue**2))\n",
    "plt.show()\n",
    "print ('Analysis: there is an a weak positive correlation between latitude and humidity')"
   ]
  },
  {
   "cell_type": "markdown",
   "metadata": {},
   "source": [
    "####  Southern Hemisphere - Humidity (%) vs. Latitude Linear Regression"
   ]
  },
  {
   "cell_type": "code",
   "execution_count": 19,
   "metadata": {},
   "outputs": [
    {
     "name": "stdout",
     "output_type": "stream",
     "text": [
      "the correlation coefficient is 0.1476960448944462\n"
     ]
    },
    {
     "data": {
      "image/png": "[encoded data removed]",
      "text/plain": [
       "<Figure size 432x288 with 1 Axes>"
      ]
     },
     "metadata": {
      "needs_background": "light"
     },
     "output_type": "display_data"
    }
   ],
   "source": [
    "x_value = south_df['humidities']\n",
    "y_value = south_df['lats'] \n",
    "                       \n",
    "(slope, intercept, rvalue, pvalue, std)= linregress(x_value, y_value)\n",
    "regress_value =  x_value * slope + intercept   \n",
    "line_eq = \"y= \" + str(slope) + \"x \" + str(intercept)\n",
    "plt.scatter(x_value, y_value)\n",
    "plt.xlabel(\"Humidity\")\n",
    "plt.ylabel(\"Latitude\")\n",
    "plt.plot(x_value, regress_value)\n",
    "print(\"the correlation coefficient is \" + str(rvalue))\n",
    "#print(\"the r squared value is \" + str(rvalue**2))\n",
    "plt.show()\n",
    "print ('Analysis: there is an a weak positive correlation between latitude and humidity')"
   ]
  },
  {
   "cell_type": "markdown",
   "metadata": {},
   "source": [
    "####  Northern Hemisphere - Cloudiness (%) vs. Latitude Linear Regression"
   ]
  },
  {
   "cell_type": "code",
   "execution_count": 20,
   "metadata": {},
   "outputs": [
    {
     "name": "stdout",
     "output_type": "stream",
     "text": [
      "the correlation coefficient is 0.14960914643733955\n"
     ]
    },
    {
     "data": {
      "image/png": "[encoded data removed]",
      "text/plain": [
       "<Figure size 432x288 with 1 Axes>"
      ]
     },
     "metadata": {
      "needs_background": "light"
     },
     "output_type": "display_data"
    }
   ],
   "source": [
    "x_value = north_df['clouds']\n",
    "y_value = north_df['lats'] \n",
    "                       \n",
    "(slope, intercept, rvalue, pvalue, std)= linregress(x_value, y_value)\n",
    "regress_value =  x_value * slope + intercept   \n",
    "line_eq = \"y= \" + str(slope) + \"x \" + str(intercept)\n",
    "plt.scatter(x_value, y_value)\n",
    "plt.xlabel(\"Cloudiness\")\n",
    "plt.ylabel(\"Latitude\")\n",
    "plt.plot(x_value, regress_value)\n",
    "print(\"the correlation coefficient is \" + str(rvalue))\n",
    "#print(\"the r squared value is \" + str(rvalue**2))\n",
    "plt.show()\n",
    "print ('Analysis: there is an a weak positive correlation between latitude and cloudiness')"
   ]
  },
  {
   "cell_type": "markdown",
   "metadata": {},
   "source": [
    "####  Southern Hemisphere - Cloudiness (%) vs. Latitude Linear Regression"
   ]
  },
  {
   "cell_type": "code",
   "execution_count": 21,
   "metadata": {},
   "outputs": [
    {
     "name": "stdout",
     "output_type": "stream",
     "text": [
      "the correlation coefficient is 0.14960914643733955\n"
     ]
    },
    {
     "data": {
      "image/png": "[encoded data removed]",
      "text/plain": [
       "<Figure size 432x288 with 1 Axes>"
      ]
     },
     "metadata": {
      "needs_background": "light"
     },
     "output_type": "display_data"
    }
   ],
   "source": [
    "x_value = south_df['clouds']\n",
    "y_value = south_df['lats'] \n",
    "                       \n",
    "(slope, intercept, rvalue, pvalue, std)= linregress(x_value, y_value)\n",
    "regress_value =  x_value * slope + intercept   \n",
    "line_eq = \"y= \" + str(slope) + \"x \" + str(intercept)\n",
    "plt.scatter(x_value, y_value)\n",
    "plt.xlabel(\"Cloudiness\")\n",
    "plt.ylabel(\"Latitude\")\n",
    "plt.plot(x_value, regress_value)\n",
    "print(\"the correlation coefficient is \" + str(rvalue))\n",
    "#print(\"the r squared value is \" + str(rvalue**2))\n",
    "plt.show()\n",
    "print ('Analysis: there is an a weak positive correlation between latitude and cloudiness')"
   ]
  },
  {
   "cell_type": "markdown",
   "metadata": {},
   "source": [
    "####  Northern Hemisphere - Wind Speed (mph) vs. Latitude Linear Regression"
   ]
  },
  {
   "cell_type": "code",
   "execution_count": 22,
   "metadata": {},
   "outputs": [
    {
     "name": "stdout",
     "output_type": "stream",
     "text": [
      "the correlation coefficient is 0.34966148036162664\n"
     ]
    },
    {
     "data": {
      "image/png": "[encoded data removed]",
      "text/plain": [
       "<Figure size 432x288 with 1 Axes>"
      ]
     },
     "metadata": {
      "needs_background": "light"
     },
     "output_type": "display_data"
    }
   ],
   "source": [
    "x_value = north_df['winds']\n",
    "y_value = north_df['lats'] \n",
    "                       \n",
    "(slope, intercept, rvalue, pvalue, std)= linregress(x_value, y_value)\n",
    "regress_value =  x_value * slope + intercept   \n",
    "line_eq = \"y= \" + str(slope) + \"x \" + str(intercept)\n",
    "plt.scatter(x_value, y_value)\n",
    "plt.xlabel(\"Wind Speed\")\n",
    "plt.ylabel(\"Latitude\")\n",
    "plt.plot(x_value, regress_value)\n",
    "print(\"the correlation coefficient is \" + str(rvalue))\n",
    "#print(\"the r squared value is \" + str(rvalue**2))\n",
    "plt.show()\n",
    "print ('Analysis: there is an a weak positive correlation between latitude and wind speed')"
   ]
  },
  {
   "cell_type": "markdown",
   "metadata": {},
   "source": [
    "####  Southern Hemisphere - Wind Speed (mph) vs. Latitude Linear Regression"
   ]
  },
  {
   "cell_type": "code",
   "execution_count": 23,
   "metadata": {},
   "outputs": [
    {
     "name": "stdout",
     "output_type": "stream",
     "text": [
      "the correlation coefficient is 0.34966148036162664\n"
     ]
    },
    {
     "data": {
      "image/png": "[encoded data removed]",
      "text/plain": [
       "<Figure size 432x288 with 1 Axes>"
      ]
     },
     "metadata": {
      "needs_background": "light"
     },
     "output_type": "display_data"
    }
   ],
   "source": [
    "x_value = south_df['winds']\n",
    "y_value = south_df['lats'] \n",
    "                       \n",
    "(slope, intercept, rvalue, pvalue, std)= linregress(x_value, y_value)\n",
    "regress_value =  x_value * slope + intercept   \n",
    "line_eq = \"y= \" + str(slope) + \"x \" + str(intercept)\n",
    "plt.scatter(x_value, y_value)\n",
    "plt.xlabel(\"Wind Speed\")\n",
    "plt.ylabel(\"Latitude\")\n",
    "plt.plot(x_value, regress_value)\n",
    "print(\"the correlation coefficient is \" + str(rvalue))\n",
    "#print(\"the r squared value is \" + str(rvalue**2))\n",
    "plt.show()\n",
    "print ('Analysis: there is an a weak positive correlation between latitude and wind speed')"
   ]
  },
  {
   "cell_type": "code",
   "execution_count": null,
   "metadata": {},
   "outputs": [],
   "source": []
  }
 ],
 "metadata": {
  "anaconda-cloud": {},
  "kernel_info": {
   "name": "python3"
  },
  "kernelspec": {
   "display_name": "Python [conda env:PythonData]",
   "language": "python",
   "name": "conda-env-PythonData-py"
  },
  "language_info": {
   "codemirror_mode": {
    "name": "ipython",
    "version": 3
   },
   "file_extension": ".py",
   "mimetype": "text/x-python",
   "name": "python",
   "nbconvert_exporter": "python",
   "pygments_lexer": "ipython3",
   "version": "3.6.10"
  },
  "latex_envs": {
   "LaTeX_envs_menu_present": true,
   "autoclose": false,
   "autocomplete": true,
   "bibliofile": "biblio.bib",
   "cite_by": "apalike",
   "current_citInitial": 1,
   "eqLabelWithNumbers": true,
   "eqNumInitial": 1,
   "hotkeys": {
    "equation": "Ctrl-E",
    "itemize": "Ctrl-I"
   },
   "labels_anchors": false,
   "latex_user_defs": false,
   "report_style_numbering": false,
   "user_envs_cfg": false
  },
  "nteract": {
   "version": "0.12.3"
  }
 },
 "nbformat": 4,
 "nbformat_minor": 2
}
